{
 "cells": [
  {
   "cell_type": "markdown",
   "metadata": {},
   "source": [
    "## Introduction to the Data Set\n",
    "*  Import pandas, matplotlib, and numpy into the environment. Import the classes you need from scikit-learn as well.\n",
    "*  Read __AmesHousing.txt__ into a pandas data frame.\n",
    "*  For the following functions, we recommend creating them in the first few cells in the notebook. This way, you can add cells to the end of the notebook to do experiments and update the functions in these cells.\n",
    "  *  Create a function named __transform_features()__ that, for now, just returns the __train__ data frame.\n",
    "  *  Create a function named __select_features()__ that, for now, just returns the __Gr Liv Area__ and __SalePrice__ columns from the __train__ data frame.\n",
    "  *  Create a function named __train_and_test()__ that, for now:\n",
    "    *  Selects the first __1460__ rows from from __data__ and assign to __train__.\n",
    "    *  Selects the remaining rows from __data__ and assign to __test__.\n",
    "    *  Trains a model using all numerical columns except the __SalePrice__ column (the target column) from the data frame returned from __select_features()__\n",
    "    *  Tests the model on the test set using and returns the RMSE value."
   ]
  },
  {
   "cell_type": "code",
   "execution_count": 1,
   "metadata": {
    "collapsed": true
   },
   "outputs": [],
   "source": [
    "%matplotlib inline\n",
    "import pandas as pd\n",
    "import matplotlib.pyplot as plt\n",
    "import numpy as np\n",
    "from sklearn.linear_model import LinearRegression\n",
    "from sklearn.metrics import mean_squared_error"
   ]
  },
  {
   "cell_type": "code",
   "execution_count": 2,
   "metadata": {
    "collapsed": true
   },
   "outputs": [],
   "source": [
    "data = pd.read_csv('AmesHousing.txt', delimiter='\\t')"
   ]
  },
  {
   "cell_type": "code",
   "execution_count": 3,
   "metadata": {
    "collapsed": true
   },
   "outputs": [],
   "source": [
    "def transform_features(df):\n",
    "    train = df.iloc[:1460].copy()\n",
    "    test = df.iloc[1460:].copy()\n",
    "    return train, test\n",
    "\n",
    "def select_features():\n",
    "    return ['Gr Liv Area'], 'SalePrice'\n",
    "\n",
    "def train_and_test(train, test, train_features, target):\n",
    "    lr = LinearRegression()\n",
    "    lr.fit(train[train_features],train[target])\n",
    "    predict = lr.predict(test[train_features])\n",
    "    mse = mean_squared_error(test[target],predict)\n",
    "    RMSE = np.sqrt(mse)\n",
    "    \n",
    "    return RMSE"
   ]
  },
  {
   "cell_type": "code",
   "execution_count": 4,
   "metadata": {},
   "outputs": [
    {
     "data": {
      "text/plain": [
       "57088.251612639091"
      ]
     },
     "execution_count": 4,
     "metadata": {},
     "output_type": "execute_result"
    }
   ],
   "source": [
    "train, test = transform_features(data)\n",
    "train_features, target = select_features()\n",
    "RMSE = train_and_test(train, test, train_features, target)\n",
    "RMSE"
   ]
  },
  {
   "cell_type": "markdown",
   "metadata": {},
   "source": [
    "## Feature Engineering\n",
    "1. For all columns, drop any with 5% or more missing.  This will be revisited later.\n",
    "1. For the text columns, drop any with 1 or more missing values, again this will be revisited later.\n",
    "1. For the numerical columns, fill NaN with the following:\n",
    "  *  If the column contains continuous data fill with the mean for that column.\n",
    "  *  If the column contains nominal/categorical data then fill with the mode for that column.\n",
    "1. What new features be created, that better capture the information in some of the features?\n",
    "1. Drop columns that aren't useful for ML\n",
    "1. Drop columns that leak info about the final sale."
   ]
  },
  {
   "cell_type": "code",
   "execution_count": 5,
   "metadata": {},
   "outputs": [
    {
     "name": "stdout",
     "output_type": "stream",
     "text": [
      "Lot Frontage       249\n",
      "Alley             1351\n",
      "Mas Vnr Type        11\n",
      "Mas Vnr Area        11\n",
      "Bsmt Qual           40\n",
      "Bsmt Cond           40\n",
      "Bsmt Exposure       41\n",
      "BsmtFin Type 1      40\n",
      "BsmtFin SF 1         1\n",
      "BsmtFin Type 2      41\n",
      "BsmtFin SF 2         1\n",
      "Bsmt Unf SF          1\n",
      "Total Bsmt SF        1\n",
      "Bsmt Full Bath       1\n",
      "Bsmt Half Bath       1\n",
      "Fireplace Qu       717\n",
      "Garage Type         74\n",
      "Garage Yr Blt       75\n",
      "Garage Finish       75\n",
      "Garage Qual         75\n",
      "Garage Cond         75\n",
      "Pool QC           1459\n",
      "Fence             1163\n",
      "Misc Feature      1400\n",
      "dtype: int64\n"
     ]
    }
   ],
   "source": [
    "# Show all columns that have empty values\n",
    "train, test = transform_features(data)\n",
    "missing = train.isnull().sum()\n",
    "print(missing[missing>0])\n"
   ]
  },
  {
   "cell_type": "code",
   "execution_count": 6,
   "metadata": {},
   "outputs": [
    {
     "name": "stdout",
     "output_type": "stream",
     "text": [
      "Dropped Columns Due to > 5% missing values\n"
     ]
    },
    {
     "data": {
      "text/plain": [
       "Garage Type      0.050685\n",
       "Garage Yr Blt    0.051370\n",
       "Garage Finish    0.051370\n",
       "Garage Qual      0.051370\n",
       "Garage Cond      0.051370\n",
       "Lot Frontage     0.170548\n",
       "Fireplace Qu     0.491096\n",
       "Fence            0.796575\n",
       "Alley            0.925342\n",
       "Misc Feature     0.958904\n",
       "Pool QC          0.999315\n",
       "dtype: float64"
      ]
     },
     "execution_count": 6,
     "metadata": {},
     "output_type": "execute_result"
    }
   ],
   "source": [
    "# Make a copy of the train DF and drop all columns that have %5 or more missing values.\n",
    "percent_missing = train.isnull().sum()/len(train)\n",
    "drop_missing_cols = percent_missing[percent_missing > 0.05].sort_values()\n",
    "train = train.drop(drop_missing_cols.index, axis=1)\n",
    "print('Dropped Columns Due to > 5% missing values')\n",
    "drop_missing_cols"
   ]
  },
  {
   "cell_type": "code",
   "execution_count": 7,
   "metadata": {},
   "outputs": [
    {
     "name": "stdout",
     "output_type": "stream",
     "text": [
      "Dropped Text Columns Due to > 1 missing value\n"
     ]
    },
    {
     "data": {
      "text/plain": [
       "Mas Vnr Type      11\n",
       "Bsmt Qual         40\n",
       "Bsmt Cond         40\n",
       "Bsmt Exposure     41\n",
       "BsmtFin Type 1    40\n",
       "BsmtFin Type 2    41\n",
       "dtype: int64"
      ]
     },
     "execution_count": 7,
     "metadata": {},
     "output_type": "execute_result"
    }
   ],
   "source": [
    "# Drop all text columns that have any missing values\n",
    "text_cols = train.select_dtypes(include=['object'])\n",
    "missing_values = text_cols.isnull().sum()\n",
    "drop_missing_cols = missing_values[missing_values > 0]\n",
    "train = train.drop(drop_missing_cols.index, axis=1)\n",
    "print('Dropped Text Columns Due to > 1 missing value')\n",
    "drop_missing_cols"
   ]
  },
  {
   "cell_type": "code",
   "execution_count": 8,
   "metadata": {},
   "outputs": [
    {
     "name": "stdout",
     "output_type": "stream",
     "text": [
      "ordinal/nominal numerical data with empty values\n",
      "Bsmt Full Bath    1\n",
      "Bsmt Half Bath    1\n",
      "dtype: int64\n",
      "\n",
      "continuous numerical data with empty values\n",
      "Mas Vnr Area     11\n",
      "BsmtFin SF 1      1\n",
      "BsmtFin SF 2      1\n",
      "Bsmt Unf SF       1\n",
      "Total Bsmt SF     1\n",
      "dtype: int64\n"
     ]
    }
   ],
   "source": [
    "# Fill continuous numerical data with mean & fill ordinal/nominal (on) numerical data with mode\n",
    "num_cols = train.select_dtypes(include=['int64','float64'])\n",
    "on = []\n",
    "con = []\n",
    "\n",
    "# By review the data set I found that none of the ordinal/nominal data has more the 16 possibilities\n",
    "for col in num_cols.columns:\n",
    "    if len(num_cols[col].unique()) > 16:\n",
    "        con.append(col)\n",
    "    else:\n",
    "        on.append(col)\n",
    "\n",
    "print('ordinal/nominal numerical data with empty values')\n",
    "missing_values = train[on].isnull().sum()\n",
    "print(missing_values[missing_values > 0])\n",
    "\n",
    "print('\\ncontinuous numerical data with empty values')\n",
    "missing_values = train[con].isnull().sum()\n",
    "print(missing_values[missing_values > 0])\n",
    "\n",
    "train[on] = train[on].fillna(train[on].mode().iloc[0])\n",
    "train[con] = train[con].fillna(train[con].mean())"
   ]
  },
  {
   "cell_type": "code",
   "execution_count": 9,
   "metadata": {},
   "outputs": [
    {
     "name": "stdout",
     "output_type": "stream",
     "text": [
      "Series([], dtype: int64)\n"
     ]
    }
   ],
   "source": [
    "# Verify that the resulting DataFrame has no missing values\n",
    "missing_values = train.isnull().sum()\n",
    "print(missing_values[missing_values > 0])"
   ]
  },
  {
   "cell_type": "code",
   "execution_count": 10,
   "metadata": {},
   "outputs": [
    {
     "name": "stdout",
     "output_type": "stream",
     "text": [
      "850   -1\n",
      "dtype: int64\n",
      "Series([], dtype: int64)\n"
     ]
    }
   ],
   "source": [
    "# Create new features, that better captures the information.\n",
    "\n",
    "# The 'Year Remod/Add' & 'Year Built' columns to calculate the years after the house\n",
    "# was built until it was remodeled\n",
    "years_until_remod = train['Year Remod/Add'] - train['Year Built']\n",
    "\n",
    "\n",
    "# Similar to the above transformation... Yr Sold would provide better information if we altered it\n",
    "# to the age of the house when sold.\n",
    "age_when_sold = train['Yr Sold'] - train['Year Built']\n",
    "\n",
    "# Check for negative values\n",
    "print(years_until_remod[years_until_remod<0])\n",
    "print(age_when_sold[age_when_sold<0])"
   ]
  },
  {
   "cell_type": "code",
   "execution_count": 11,
   "metadata": {},
   "outputs": [],
   "source": [
    "# Add newly created features and remove rows with negative values\n",
    "train['years_until_remod'] = years_until_remod\n",
    "train['age_when_sold'] = age_when_sold\n",
    "train = train.drop([850], axis=0)\n",
    "\n",
    "## No longer need original year columns\n",
    "train = train.drop(['Yr Sold', 'Year Built'], axis=1)"
   ]
  },
  {
   "cell_type": "code",
   "execution_count": 12,
   "metadata": {},
   "outputs": [],
   "source": [
    "# Drop columns that aren't useful for ML\n",
    "train = train.drop(['Order', 'PID'], axis=1)\n",
    "\n",
    "# These columns have information that cannot be known \n",
    "# prior to the sale, as such they leak data.\n",
    "train = train.drop([\"Mo Sold\", \"Sale Condition\", \"Sale Type\"], axis=1)"
   ]
  },
  {
   "cell_type": "code",
   "execution_count": 13,
   "metadata": {},
   "outputs": [
    {
     "name": "stdout",
     "output_type": "stream",
     "text": [
      "(1459, 60)\n",
      "<class 'pandas.core.frame.DataFrame'>\n",
      "Int64Index: 1459 entries, 0 to 1459\n",
      "Data columns (total 60 columns):\n",
      "MS SubClass          1459 non-null int64\n",
      "MS Zoning            1459 non-null object\n",
      "Lot Area             1459 non-null int64\n",
      "Street               1459 non-null object\n",
      "Lot Shape            1459 non-null object\n",
      "Land Contour         1459 non-null object\n",
      "Utilities            1459 non-null object\n",
      "Lot Config           1459 non-null object\n",
      "Land Slope           1459 non-null object\n",
      "Neighborhood         1459 non-null object\n",
      "Condition 1          1459 non-null object\n",
      "Condition 2          1459 non-null object\n",
      "Bldg Type            1459 non-null object\n",
      "House Style          1459 non-null object\n",
      "Overall Qual         1459 non-null int64\n",
      "Overall Cond         1459 non-null int64\n",
      "Year Remod/Add       1459 non-null int64\n",
      "Roof Style           1459 non-null object\n",
      "Roof Matl            1459 non-null object\n",
      "Exterior 1st         1459 non-null object\n",
      "Exterior 2nd         1459 non-null object\n",
      "Mas Vnr Area         1459 non-null float64\n",
      "Exter Qual           1459 non-null object\n",
      "Exter Cond           1459 non-null object\n",
      "Foundation           1459 non-null object\n",
      "BsmtFin SF 1         1459 non-null float64\n",
      "BsmtFin SF 2         1459 non-null float64\n",
      "Bsmt Unf SF          1459 non-null float64\n",
      "Total Bsmt SF        1459 non-null float64\n",
      "Heating              1459 non-null object\n",
      "Heating QC           1459 non-null object\n",
      "Central Air          1459 non-null object\n",
      "Electrical           1459 non-null object\n",
      "1st Flr SF           1459 non-null int64\n",
      "2nd Flr SF           1459 non-null int64\n",
      "Low Qual Fin SF      1459 non-null int64\n",
      "Gr Liv Area          1459 non-null int64\n",
      "Bsmt Full Bath       1459 non-null float64\n",
      "Bsmt Half Bath       1459 non-null float64\n",
      "Full Bath            1459 non-null int64\n",
      "Half Bath            1459 non-null int64\n",
      "Bedroom AbvGr        1459 non-null int64\n",
      "Kitchen AbvGr        1459 non-null int64\n",
      "Kitchen Qual         1459 non-null object\n",
      "TotRms AbvGrd        1459 non-null int64\n",
      "Functional           1459 non-null object\n",
      "Fireplaces           1459 non-null int64\n",
      "Garage Cars          1459 non-null float64\n",
      "Garage Area          1459 non-null float64\n",
      "Paved Drive          1459 non-null object\n",
      "Wood Deck SF         1459 non-null int64\n",
      "Open Porch SF        1459 non-null int64\n",
      "Enclosed Porch       1459 non-null int64\n",
      "3Ssn Porch           1459 non-null int64\n",
      "Screen Porch         1459 non-null int64\n",
      "Pool Area            1459 non-null int64\n",
      "Misc Val             1459 non-null int64\n",
      "SalePrice            1459 non-null int64\n",
      "years_until_remod    1459 non-null int64\n",
      "age_when_sold        1459 non-null int64\n",
      "dtypes: float64(9), int64(25), object(26)\n",
      "memory usage: 695.3+ KB\n",
      "None\n",
      "MS SubClass          0\n",
      "MS Zoning            0\n",
      "Lot Area             0\n",
      "Street               0\n",
      "Lot Shape            0\n",
      "Land Contour         0\n",
      "Utilities            0\n",
      "Lot Config           0\n",
      "Land Slope           0\n",
      "Neighborhood         0\n",
      "Condition 1          0\n",
      "Condition 2          0\n",
      "Bldg Type            0\n",
      "House Style          0\n",
      "Overall Qual         0\n",
      "Overall Cond         0\n",
      "Year Remod/Add       0\n",
      "Roof Style           0\n",
      "Roof Matl            0\n",
      "Exterior 1st         0\n",
      "Exterior 2nd         0\n",
      "Mas Vnr Area         0\n",
      "Exter Qual           0\n",
      "Exter Cond           0\n",
      "Foundation           0\n",
      "BsmtFin SF 1         0\n",
      "BsmtFin SF 2         0\n",
      "Bsmt Unf SF          0\n",
      "Total Bsmt SF        0\n",
      "Heating              0\n",
      "Heating QC           0\n",
      "Central Air          0\n",
      "Electrical           0\n",
      "1st Flr SF           0\n",
      "2nd Flr SF           0\n",
      "Low Qual Fin SF      0\n",
      "Gr Liv Area          0\n",
      "Bsmt Full Bath       0\n",
      "Bsmt Half Bath       0\n",
      "Full Bath            0\n",
      "Half Bath            0\n",
      "Bedroom AbvGr        0\n",
      "Kitchen AbvGr        0\n",
      "Kitchen Qual         0\n",
      "TotRms AbvGrd        0\n",
      "Functional           0\n",
      "Fireplaces           0\n",
      "Garage Cars          0\n",
      "Garage Area          0\n",
      "Paved Drive          0\n",
      "Wood Deck SF         0\n",
      "Open Porch SF        0\n",
      "Enclosed Porch       0\n",
      "3Ssn Porch           0\n",
      "Screen Porch         0\n",
      "Pool Area            0\n",
      "Misc Val             0\n",
      "SalePrice            0\n",
      "years_until_remod    0\n",
      "age_when_sold        0\n",
      "dtype: int64\n"
     ]
    },
    {
     "data": {
      "text/plain": [
       "Index(['MS SubClass', 'MS Zoning', 'Lot Area', 'Street', 'Lot Shape',\n",
       "       'Land Contour', 'Utilities', 'Lot Config', 'Land Slope', 'Neighborhood',\n",
       "       'Condition 1', 'Condition 2', 'Bldg Type', 'House Style',\n",
       "       'Overall Qual', 'Overall Cond', 'Year Remod/Add', 'Roof Style',\n",
       "       'Roof Matl', 'Exterior 1st', 'Exterior 2nd', 'Mas Vnr Area',\n",
       "       'Exter Qual', 'Exter Cond', 'Foundation', 'BsmtFin SF 1',\n",
       "       'BsmtFin SF 2', 'Bsmt Unf SF', 'Total Bsmt SF', 'Heating', 'Heating QC',\n",
       "       'Central Air', 'Electrical', '1st Flr SF', '2nd Flr SF',\n",
       "       'Low Qual Fin SF', 'Gr Liv Area', 'Bsmt Full Bath', 'Bsmt Half Bath',\n",
       "       'Full Bath', 'Half Bath', 'Bedroom AbvGr', 'Kitchen AbvGr',\n",
       "       'Kitchen Qual', 'TotRms AbvGrd', 'Functional', 'Fireplaces',\n",
       "       'Garage Cars', 'Garage Area', 'Paved Drive', 'Wood Deck SF',\n",
       "       'Open Porch SF', 'Enclosed Porch', '3Ssn Porch', 'Screen Porch',\n",
       "       'Pool Area', 'Misc Val', 'SalePrice', 'years_until_remod',\n",
       "       'age_when_sold'],\n",
       "      dtype='object')"
      ]
     },
     "execution_count": 13,
     "metadata": {},
     "output_type": "execute_result"
    }
   ],
   "source": [
    "# Review data\n",
    "print(train.isnull().sum())\n",
    "train.info()"
   ]
  },
  {
   "cell_type": "code",
   "execution_count": 14,
   "metadata": {},
   "outputs": [],
   "source": [
    "# Overwrite transform_features() so that it preforms the above feature engineering steps\n",
    "\n",
    "def transform_features(df):\n",
    "    train = df.iloc[:1460].copy()\n",
    "    test = df.iloc[1460:].copy()\n",
    "    \n",
    "    # Drop all columns that have %5 or more missing values.\n",
    "    percent_missing = train.isnull().sum()/len(train)\n",
    "    drop_missing_cols = percent_missing[percent_missing > 0.05].sort_values()\n",
    "    train = train.drop(drop_missing_cols.index, axis=1)\n",
    "    \n",
    "    # Drop all text columns that have any missing values\n",
    "    text_cols = train.select_dtypes(include=['object'])\n",
    "    missing_values = text_cols.isnull().sum()\n",
    "    drop_missing_cols = missing_values[missing_values > 0]\n",
    "    train = train.drop(drop_missing_cols.index, axis=1)\n",
    "    \n",
    "    # Fill missing continuous numerical data with mean & \n",
    "    # fill missing ordinal/nominal numerical data with mode\n",
    "    num_cols = train.select_dtypes(include=['int64','float64'])\n",
    "    on = []\n",
    "    con = []\n",
    "    # By review the data set I found that none of the ordinal/nominal data has more the 16 possibilities\n",
    "    for col in num_cols.columns:\n",
    "        if len(num_cols[col].unique()) > 16:\n",
    "            con.append(col)\n",
    "        else:\n",
    "            on.append(col)\n",
    "    train[on] = train[on].fillna(train[on].mode().iloc[0])\n",
    "    train[con] = train[con].fillna(train[con].mean())\n",
    "    \n",
    "    # Create new features, that better captures the information.\n",
    "    # The 'Year Remod/Add' & 'Year Built' columns to calculate the years after the house\n",
    "    # was built until it was remodeled\n",
    "    train['years_until_remod'] = train['Year Remod/Add'] - train['Year Built']\n",
    "    # Similar to the above transformation... Yr Sold would provide better information if we altered it\n",
    "    # to the age of the house when sold.\n",
    "    train['age_when_sold'] = train['Yr Sold'] - train['Year Built']\n",
    "    # Remove rows with negative values\n",
    "    train = train.drop([850], axis=0)\n",
    "    # No longer need original year columns\n",
    "    train = train.drop(['Yr Sold', 'Year Built'], axis=1)\n",
    "    \n",
    "    # Drop columns that aren't useful for ML\n",
    "    train = train.drop(['Order', 'PID'], axis=1)\n",
    "\n",
    "    # These columns have information that cannot be known \n",
    "    # prior to the sale, as such they leak data.\n",
    "    train = train.drop([\"Mo Sold\", \"Sale Condition\", \"Sale Type\"], axis=1)\n",
    "    \n",
    "    return train, test"
   ]
  },
  {
   "cell_type": "code",
   "execution_count": 15,
   "metadata": {},
   "outputs": [
    {
     "name": "stdout",
     "output_type": "stream",
     "text": [
      "(1459, 60)\n",
      "<class 'pandas.core.frame.DataFrame'>\n",
      "Int64Index: 1459 entries, 0 to 1459\n",
      "Data columns (total 60 columns):\n",
      "MS SubClass          1459 non-null int64\n",
      "MS Zoning            1459 non-null object\n",
      "Lot Area             1459 non-null int64\n",
      "Street               1459 non-null object\n",
      "Lot Shape            1459 non-null object\n",
      "Land Contour         1459 non-null object\n",
      "Utilities            1459 non-null object\n",
      "Lot Config           1459 non-null object\n",
      "Land Slope           1459 non-null object\n",
      "Neighborhood         1459 non-null object\n",
      "Condition 1          1459 non-null object\n",
      "Condition 2          1459 non-null object\n",
      "Bldg Type            1459 non-null object\n",
      "House Style          1459 non-null object\n",
      "Overall Qual         1459 non-null int64\n",
      "Overall Cond         1459 non-null int64\n",
      "Year Remod/Add       1459 non-null int64\n",
      "Roof Style           1459 non-null object\n",
      "Roof Matl            1459 non-null object\n",
      "Exterior 1st         1459 non-null object\n",
      "Exterior 2nd         1459 non-null object\n",
      "Mas Vnr Area         1459 non-null float64\n",
      "Exter Qual           1459 non-null object\n",
      "Exter Cond           1459 non-null object\n",
      "Foundation           1459 non-null object\n",
      "BsmtFin SF 1         1459 non-null float64\n",
      "BsmtFin SF 2         1459 non-null float64\n",
      "Bsmt Unf SF          1459 non-null float64\n",
      "Total Bsmt SF        1459 non-null float64\n",
      "Heating              1459 non-null object\n",
      "Heating QC           1459 non-null object\n",
      "Central Air          1459 non-null object\n",
      "Electrical           1459 non-null object\n",
      "1st Flr SF           1459 non-null int64\n",
      "2nd Flr SF           1459 non-null int64\n",
      "Low Qual Fin SF      1459 non-null int64\n",
      "Gr Liv Area          1459 non-null int64\n",
      "Bsmt Full Bath       1459 non-null float64\n",
      "Bsmt Half Bath       1459 non-null float64\n",
      "Full Bath            1459 non-null int64\n",
      "Half Bath            1459 non-null int64\n",
      "Bedroom AbvGr        1459 non-null int64\n",
      "Kitchen AbvGr        1459 non-null int64\n",
      "Kitchen Qual         1459 non-null object\n",
      "TotRms AbvGrd        1459 non-null int64\n",
      "Functional           1459 non-null object\n",
      "Fireplaces           1459 non-null int64\n",
      "Garage Cars          1459 non-null float64\n",
      "Garage Area          1459 non-null float64\n",
      "Paved Drive          1459 non-null object\n",
      "Wood Deck SF         1459 non-null int64\n",
      "Open Porch SF        1459 non-null int64\n",
      "Enclosed Porch       1459 non-null int64\n",
      "3Ssn Porch           1459 non-null int64\n",
      "Screen Porch         1459 non-null int64\n",
      "Pool Area            1459 non-null int64\n",
      "Misc Val             1459 non-null int64\n",
      "SalePrice            1459 non-null int64\n",
      "years_until_remod    1459 non-null int64\n",
      "age_when_sold        1459 non-null int64\n",
      "dtypes: float64(9), int64(25), object(26)\n",
      "memory usage: 695.3+ KB\n",
      "None\n",
      "MS SubClass          0\n",
      "MS Zoning            0\n",
      "Lot Area             0\n",
      "Street               0\n",
      "Lot Shape            0\n",
      "Land Contour         0\n",
      "Utilities            0\n",
      "Lot Config           0\n",
      "Land Slope           0\n",
      "Neighborhood         0\n",
      "Condition 1          0\n",
      "Condition 2          0\n",
      "Bldg Type            0\n",
      "House Style          0\n",
      "Overall Qual         0\n",
      "Overall Cond         0\n",
      "Year Remod/Add       0\n",
      "Roof Style           0\n",
      "Roof Matl            0\n",
      "Exterior 1st         0\n",
      "Exterior 2nd         0\n",
      "Mas Vnr Area         0\n",
      "Exter Qual           0\n",
      "Exter Cond           0\n",
      "Foundation           0\n",
      "BsmtFin SF 1         0\n",
      "BsmtFin SF 2         0\n",
      "Bsmt Unf SF          0\n",
      "Total Bsmt SF        0\n",
      "Heating              0\n",
      "Heating QC           0\n",
      "Central Air          0\n",
      "Electrical           0\n",
      "1st Flr SF           0\n",
      "2nd Flr SF           0\n",
      "Low Qual Fin SF      0\n",
      "Gr Liv Area          0\n",
      "Bsmt Full Bath       0\n",
      "Bsmt Half Bath       0\n",
      "Full Bath            0\n",
      "Half Bath            0\n",
      "Bedroom AbvGr        0\n",
      "Kitchen AbvGr        0\n",
      "Kitchen Qual         0\n",
      "TotRms AbvGrd        0\n",
      "Functional           0\n",
      "Fireplaces           0\n",
      "Garage Cars          0\n",
      "Garage Area          0\n",
      "Paved Drive          0\n",
      "Wood Deck SF         0\n",
      "Open Porch SF        0\n",
      "Enclosed Porch       0\n",
      "3Ssn Porch           0\n",
      "Screen Porch         0\n",
      "Pool Area            0\n",
      "Misc Val             0\n",
      "SalePrice            0\n",
      "years_until_remod    0\n",
      "age_when_sold        0\n",
      "dtype: int64\n"
     ]
    },
    {
     "data": {
      "text/plain": [
       "Index(['MS SubClass', 'MS Zoning', 'Lot Area', 'Street', 'Lot Shape',\n",
       "       'Land Contour', 'Utilities', 'Lot Config', 'Land Slope', 'Neighborhood',\n",
       "       'Condition 1', 'Condition 2', 'Bldg Type', 'House Style',\n",
       "       'Overall Qual', 'Overall Cond', 'Year Remod/Add', 'Roof Style',\n",
       "       'Roof Matl', 'Exterior 1st', 'Exterior 2nd', 'Mas Vnr Area',\n",
       "       'Exter Qual', 'Exter Cond', 'Foundation', 'BsmtFin SF 1',\n",
       "       'BsmtFin SF 2', 'Bsmt Unf SF', 'Total Bsmt SF', 'Heating', 'Heating QC',\n",
       "       'Central Air', 'Electrical', '1st Flr SF', '2nd Flr SF',\n",
       "       'Low Qual Fin SF', 'Gr Liv Area', 'Bsmt Full Bath', 'Bsmt Half Bath',\n",
       "       'Full Bath', 'Half Bath', 'Bedroom AbvGr', 'Kitchen AbvGr',\n",
       "       'Kitchen Qual', 'TotRms AbvGrd', 'Functional', 'Fireplaces',\n",
       "       'Garage Cars', 'Garage Area', 'Paved Drive', 'Wood Deck SF',\n",
       "       'Open Porch SF', 'Enclosed Porch', '3Ssn Porch', 'Screen Porch',\n",
       "       'Pool Area', 'Misc Val', 'SalePrice', 'years_until_remod',\n",
       "       'age_when_sold'],\n",
       "      dtype='object')"
      ]
     },
     "execution_count": 15,
     "metadata": {},
     "output_type": "execute_result"
    }
   ],
   "source": [
    "# Quick Check that we get the same results as above\n",
    "train, test = transform_features(data)\n",
    "print(train.isnull().sum())\n",
    "train.info()"
   ]
  },
  {
   "cell_type": "markdown",
   "metadata": {},
   "source": [
    "## Feature Selection\n",
    "*  Generate a correlation heatmap matrix of the numerical features in the training data set.\n",
    "  *  Which features correlate strongly with our target column, __SalePrice__?\n",
    "  *  Calculate the correlation coefficients for the columns that seem to correlate well with __SalePrice__. Because we have a pipeline in place, it's easy to try different features and see which features result in a better cross validation score.\n",
    "*  Which columns in the data frame should be converted to the categorical data type? All of the columns marked as __nominal__ from the [documentation](DataDocumentation.txt) are candidates for being converted to categorical. Here are some other things you should think about:\n",
    "  *  If a categorical column has hundreds of unique values (or categories), should you keep it? When you dummy code this column, hundreds of columns will need to be added back to the data frame.\n",
    "  *  Which categorical columns have a few unique values but more than 95% of the values in the column belong to a specific category? This would be similar to a low variance numerical feature (no variability in the data for the model to capture).\n",
    "*  Which columns are currently numerical but need to be encoded as categorical instead (because the numbers don't have any semantic meaning)?\n",
    "*  What are some ways we can explore which categorical columns \"correlate\" well with __SalePrice__?\n",
    "  *  Read this post for some [potential strategies](https://machinelearningmastery.com/feature-selection-machine-learning-python/).\n",
    "*  Update the logic for the __select_features()__ function. This function should take in the new, modified train and test data frames that were returned from __transform_features()__."
   ]
  },
  {
   "cell_type": "markdown",
   "metadata": {},
   "source": [
    "## 04 Train & Test\n",
    "*  The optional __k__ parameter should accept integer values, with a default value of __0__.\n",
    "*  When __k__ equals __0__, perform holdout validation (what we already implemented):\n",
    "  *  Select the first __1460__ rows and assign to __train__.\n",
    "  *  Select the remaining rows and assign to __test__.\n",
    "  *  Train on train and test on __test__.\n",
    "  *  Compute the RMSE and return.\n",
    "*  When __k__ equals __1__, perform simple cross validation:\n",
    "  *  Shuffle the ordering of the rows in the data frame.\n",
    "  *  Select the first __1460__ rows and assign to __fold_one__.\n",
    "  *  Select the remaining rows and assign to __fold_two__.\n",
    "  *  Train on __fold_one__ and test on __fold_two__.\n",
    "  *  Train on __fold_two__ and test on __fold_one__.\n",
    "  *  Compute the average RMSE and return.\n",
    "*  When __k__ is greater than __0__, implement k-fold cross validation using __k__ folds:\n",
    "  *  Perform k-fold cross validation using __k__ folds.\n",
    "  *  Calculate the average RMSE value and return this value."
   ]
  }
 ],
 "metadata": {
  "kernelspec": {
   "display_name": "Python 3",
   "language": "python",
   "name": "python3"
  },
  "language_info": {
   "codemirror_mode": {
    "name": "ipython",
    "version": 3
   },
   "file_extension": ".py",
   "mimetype": "text/x-python",
   "name": "python",
   "nbconvert_exporter": "python",
   "pygments_lexer": "ipython3",
   "version": "3.6.1"
  }
 },
 "nbformat": 4,
 "nbformat_minor": 2
}

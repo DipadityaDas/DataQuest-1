{
 "cells": [
  {
   "cell_type": "markdown",
   "metadata": {},
   "source": [
    "## Introduction to the Data Set\n",
    "*  Import pandas, matplotlib, and numpy into the environment. Import the classes you need from scikit-learn as well.\n",
    "*  Read __AmesHousing.txt__ into a pandas data frame.\n",
    "*  For the following functions, we recommend creating them in the first few cells in the notebook. This way, you can add cells to the end of the notebook to do experiments and update the functions in these cells.\n",
    "  *  Create a function named __transform_features()__ that, for now, just returns the __train__ data frame.\n",
    "  *  Create a function named __select_features()__ that, for now, just returns the __Gr Liv Area__ and __SalePrice__ columns from the __train__ data frame.\n",
    "  *  Create a function named __train_and_test()__ that, for now:\n",
    "    *  Selects the first __1460__ rows from from __data__ and assign to __train__.\n",
    "    *  Selects the remaining rows from __data__ and assign to __test__.\n",
    "    *  Trains a model using all numerical columns except the __SalePrice__ column (the target column) from the data frame returned from __select_features()__\n",
    "    *  Tests the model on the test set using and returns the RMSE value."
   ]
  },
  {
   "cell_type": "code",
   "execution_count": 1,
   "metadata": {
    "collapsed": true
   },
   "outputs": [],
   "source": [
    "%matplotlib inline\n",
    "import pandas as pd\n",
    "import matplotlib.pyplot as plt\n",
    "import seaborn as sns\n",
    "import numpy as np\n",
    "from sklearn.linear_model import LinearRegression\n",
    "from sklearn.metrics import mean_squared_error"
   ]
  },
  {
   "cell_type": "code",
   "execution_count": 2,
   "metadata": {
    "collapsed": true
   },
   "outputs": [],
   "source": [
    "data = pd.read_csv('AmesHousing.txt', delimiter='\\t')"
   ]
  },
  {
   "cell_type": "code",
   "execution_count": 3,
   "metadata": {
    "collapsed": true
   },
   "outputs": [],
   "source": [
    "def transform_features(df):\n",
    "    return df\n",
    "\n",
    "def select_features():\n",
    "    return ['Gr Liv Area'], 'SalePrice'\n",
    "\n",
    "def train_and_test(df, train_features, target):\n",
    "    train = df.iloc[:1460].copy()\n",
    "    test = df.iloc[1460:].copy()\n",
    "    lr = LinearRegression()\n",
    "    lr.fit(train[train_features],train[target])\n",
    "    predict = lr.predict(test[train_features])\n",
    "    mse = mean_squared_error(test[target],predict)\n",
    "    RMSE = np.sqrt(mse)\n",
    "    \n",
    "    return RMSE"
   ]
  },
  {
   "cell_type": "code",
   "execution_count": 4,
   "metadata": {},
   "outputs": [
    {
     "data": {
      "text/plain": [
       "57088.251612639091"
      ]
     },
     "execution_count": 4,
     "metadata": {},
     "output_type": "execute_result"
    }
   ],
   "source": [
    "df = transform_features(data)\n",
    "train_features, target = select_features()\n",
    "RMSE = train_and_test(df, train_features, target)\n",
    "RMSE"
   ]
  },
  {
   "cell_type": "markdown",
   "metadata": {},
   "source": [
    "## Feature Engineering\n",
    "1. For all columns, drop any with 5% or more missing.  This will be revisited later.\n",
    "1. For the text columns, drop any with 1 or more missing values, again this will be revisited later.\n",
    "1. For the numerical columns, fill NaN with the following:\n",
    "  *  If the column contains continuous data fill with the mean for that column.\n",
    "  *  If the column contains nominal/categorical data then fill with the mode for that column.\n",
    "1. What new features be created, that better capture the information in some of the features?\n",
    "1. Drop columns that aren't useful for ML\n",
    "1. Drop columns that leak info about the final sale."
   ]
  },
  {
   "cell_type": "code",
   "execution_count": 5,
   "metadata": {},
   "outputs": [
    {
     "name": "stdout",
     "output_type": "stream",
     "text": [
      "Lot Frontage       490\n",
      "Alley             2732\n",
      "Mas Vnr Type        23\n",
      "Mas Vnr Area        23\n",
      "Bsmt Qual           80\n",
      "Bsmt Cond           80\n",
      "Bsmt Exposure       83\n",
      "BsmtFin Type 1      80\n",
      "BsmtFin SF 1         1\n",
      "BsmtFin Type 2      81\n",
      "BsmtFin SF 2         1\n",
      "Bsmt Unf SF          1\n",
      "Total Bsmt SF        1\n",
      "Electrical           1\n",
      "Bsmt Full Bath       2\n",
      "Bsmt Half Bath       2\n",
      "Fireplace Qu      1422\n",
      "Garage Type        157\n",
      "Garage Yr Blt      159\n",
      "Garage Finish      159\n",
      "Garage Cars          1\n",
      "Garage Area          1\n",
      "Garage Qual        159\n",
      "Garage Cond        159\n",
      "Pool QC           2917\n",
      "Fence             2358\n",
      "Misc Feature      2824\n",
      "dtype: int64\n"
     ]
    }
   ],
   "source": [
    "# Show all columns that have empty values\n",
    "df = transform_features(data)\n",
    "missing = df.isnull().sum()\n",
    "print(missing[missing>0])\n"
   ]
  },
  {
   "cell_type": "code",
   "execution_count": 6,
   "metadata": {},
   "outputs": [
    {
     "name": "stdout",
     "output_type": "stream",
     "text": [
      "Dropped Columns Due to > 5% missing values\n"
     ]
    },
    {
     "data": {
      "text/plain": [
       "Garage Type      0.053584\n",
       "Garage Yr Blt    0.054266\n",
       "Garage Finish    0.054266\n",
       "Garage Qual      0.054266\n",
       "Garage Cond      0.054266\n",
       "Lot Frontage     0.167235\n",
       "Fireplace Qu     0.485324\n",
       "Fence            0.804778\n",
       "Alley            0.932423\n",
       "Misc Feature     0.963823\n",
       "Pool QC          0.995563\n",
       "dtype: float64"
      ]
     },
     "execution_count": 6,
     "metadata": {},
     "output_type": "execute_result"
    }
   ],
   "source": [
    "# Make a copy of the data DF and drop all columns that have %5 or more missing values.\n",
    "percent_missing = df.isnull().sum()/len(df)\n",
    "drop_missing_cols = percent_missing[percent_missing > 0.05].sort_values()\n",
    "df = df.drop(drop_missing_cols.index, axis=1)\n",
    "print('Dropped Columns Due to > 5% missing values')\n",
    "drop_missing_cols"
   ]
  },
  {
   "cell_type": "code",
   "execution_count": 7,
   "metadata": {},
   "outputs": [
    {
     "name": "stdout",
     "output_type": "stream",
     "text": [
      "Dropped Text Columns Due to > 1 missing value\n"
     ]
    },
    {
     "data": {
      "text/plain": [
       "Mas Vnr Type      23\n",
       "Bsmt Qual         80\n",
       "Bsmt Cond         80\n",
       "Bsmt Exposure     83\n",
       "BsmtFin Type 1    80\n",
       "BsmtFin Type 2    81\n",
       "Electrical         1\n",
       "dtype: int64"
      ]
     },
     "execution_count": 7,
     "metadata": {},
     "output_type": "execute_result"
    }
   ],
   "source": [
    "# Drop all text columns that have any missing values\n",
    "text_cols = df.select_dtypes(include=['object'])\n",
    "missing_values = text_cols.isnull().sum()\n",
    "drop_missing_cols = missing_values[missing_values > 0]\n",
    "df = df.drop(drop_missing_cols.index, axis=1)\n",
    "print('Dropped Text Columns Due to > 1 missing value')\n",
    "drop_missing_cols"
   ]
  },
  {
   "cell_type": "code",
   "execution_count": 8,
   "metadata": {},
   "outputs": [
    {
     "name": "stdout",
     "output_type": "stream",
     "text": [
      "ordinal/nominal numerical data with empty values\n",
      "Bsmt Full Bath    2\n",
      "Bsmt Half Bath    2\n",
      "Garage Cars       1\n",
      "dtype: int64\n",
      "\n",
      "continuous numerical data with empty values\n",
      "Mas Vnr Area     23\n",
      "BsmtFin SF 1      1\n",
      "BsmtFin SF 2      1\n",
      "Bsmt Unf SF       1\n",
      "Total Bsmt SF     1\n",
      "Garage Area       1\n",
      "dtype: int64\n"
     ]
    }
   ],
   "source": [
    "# Fill continuous numerical data with mean & fill discrete numerical data with mode\n",
    "num_cols = df.select_dtypes(include=['int64','float64'])\n",
    "on = []\n",
    "con = []\n",
    "\n",
    "# By reviewing the data set I found that none of the ordinal/nominal data has more the 16 possibilities\n",
    "for col in num_cols.columns:\n",
    "    if len(num_cols[col].unique()) > 16:\n",
    "        con.append(col)\n",
    "    else:\n",
    "        on.append(col)\n",
    "\n",
    "print('ordinal/nominal numerical data with empty values')\n",
    "missing_values = df[on].isnull().sum()\n",
    "print(missing_values[missing_values > 0])\n",
    "\n",
    "print('\\ncontinuous numerical data with empty values')\n",
    "missing_values = df[con].isnull().sum()\n",
    "print(missing_values[missing_values > 0])\n",
    "\n",
    "df[on] = df[on].fillna(df[on].mode().iloc[0])\n",
    "df[con] = df[con].fillna(df[con].mean())"
   ]
  },
  {
   "cell_type": "code",
   "execution_count": 9,
   "metadata": {},
   "outputs": [
    {
     "name": "stdout",
     "output_type": "stream",
     "text": [
      "Series([], dtype: int64)\n"
     ]
    }
   ],
   "source": [
    "# Verify that the resulting DataFrame has no missing values\n",
    "missing_values = df.isnull().sum()\n",
    "print(missing_values[missing_values > 0])"
   ]
  },
  {
   "cell_type": "code",
   "execution_count": 10,
   "metadata": {},
   "outputs": [
    {
     "name": "stdout",
     "output_type": "stream",
     "text": [
      "850   -1\n",
      "dtype: int64\n",
      "2180   -1\n",
      "dtype: int64\n"
     ]
    }
   ],
   "source": [
    "# Create new features, that better captures the information.\n",
    "\n",
    "# The 'Year Remod/Add' & 'Year Built' columns to calculate the years after the house\n",
    "# was built until it was remodeled\n",
    "years_until_remod = df['Year Remod/Add'] - df['Year Built']\n",
    "\n",
    "\n",
    "# Similar to the above transformation... Yr Sold would provide better information if we altered it\n",
    "# to the age of the house when sold.\n",
    "age_when_sold = df['Yr Sold'] - df['Year Built']\n",
    "\n",
    "# Check for negative values\n",
    "print(years_until_remod[years_until_remod<0])\n",
    "print(age_when_sold[age_when_sold<0])"
   ]
  },
  {
   "cell_type": "code",
   "execution_count": 11,
   "metadata": {},
   "outputs": [],
   "source": [
    "# Add newly created features and remove rows with negative values\n",
    "df['years_until_remod'] = years_until_remod\n",
    "df['age_when_sold'] = age_when_sold\n",
    "df = df.drop([850,2180], axis=0)\n",
    "\n",
    "## No longer need original year columns\n",
    "df = df.drop(['Yr Sold', 'Year Built'], axis=1)"
   ]
  },
  {
   "cell_type": "code",
   "execution_count": 12,
   "metadata": {},
   "outputs": [],
   "source": [
    "# Drop columns that aren't useful for ML\n",
    "df = df.drop(['Order', 'PID'], axis=1)\n",
    "\n",
    "# These columns have information that cannot be known \n",
    "# prior to the sale, as such they leak data.\n",
    "df = df.drop([\"Mo Sold\", \"Sale Condition\", \"Sale Type\"], axis=1)"
   ]
  },
  {
   "cell_type": "code",
   "execution_count": 13,
   "metadata": {},
   "outputs": [
    {
     "name": "stdout",
     "output_type": "stream",
     "text": [
      "MS SubClass          0\n",
      "MS Zoning            0\n",
      "Lot Area             0\n",
      "Street               0\n",
      "Lot Shape            0\n",
      "Land Contour         0\n",
      "Utilities            0\n",
      "Lot Config           0\n",
      "Land Slope           0\n",
      "Neighborhood         0\n",
      "Condition 1          0\n",
      "Condition 2          0\n",
      "Bldg Type            0\n",
      "House Style          0\n",
      "Overall Qual         0\n",
      "Overall Cond         0\n",
      "Year Remod/Add       0\n",
      "Roof Style           0\n",
      "Roof Matl            0\n",
      "Exterior 1st         0\n",
      "Exterior 2nd         0\n",
      "Mas Vnr Area         0\n",
      "Exter Qual           0\n",
      "Exter Cond           0\n",
      "Foundation           0\n",
      "BsmtFin SF 1         0\n",
      "BsmtFin SF 2         0\n",
      "Bsmt Unf SF          0\n",
      "Total Bsmt SF        0\n",
      "Heating              0\n",
      "Heating QC           0\n",
      "Central Air          0\n",
      "1st Flr SF           0\n",
      "2nd Flr SF           0\n",
      "Low Qual Fin SF      0\n",
      "Gr Liv Area          0\n",
      "Bsmt Full Bath       0\n",
      "Bsmt Half Bath       0\n",
      "Full Bath            0\n",
      "Half Bath            0\n",
      "Bedroom AbvGr        0\n",
      "Kitchen AbvGr        0\n",
      "Kitchen Qual         0\n",
      "TotRms AbvGrd        0\n",
      "Functional           0\n",
      "Fireplaces           0\n",
      "Garage Cars          0\n",
      "Garage Area          0\n",
      "Paved Drive          0\n",
      "Wood Deck SF         0\n",
      "Open Porch SF        0\n",
      "Enclosed Porch       0\n",
      "3Ssn Porch           0\n",
      "Screen Porch         0\n",
      "Pool Area            0\n",
      "Misc Val             0\n",
      "SalePrice            0\n",
      "years_until_remod    0\n",
      "age_when_sold        0\n",
      "dtype: int64\n",
      "<class 'pandas.core.frame.DataFrame'>\n",
      "Int64Index: 2928 entries, 0 to 2929\n",
      "Data columns (total 59 columns):\n",
      "MS SubClass          2928 non-null int64\n",
      "MS Zoning            2928 non-null object\n",
      "Lot Area             2928 non-null int64\n",
      "Street               2928 non-null object\n",
      "Lot Shape            2928 non-null object\n",
      "Land Contour         2928 non-null object\n",
      "Utilities            2928 non-null object\n",
      "Lot Config           2928 non-null object\n",
      "Land Slope           2928 non-null object\n",
      "Neighborhood         2928 non-null object\n",
      "Condition 1          2928 non-null object\n",
      "Condition 2          2928 non-null object\n",
      "Bldg Type            2928 non-null object\n",
      "House Style          2928 non-null object\n",
      "Overall Qual         2928 non-null int64\n",
      "Overall Cond         2928 non-null int64\n",
      "Year Remod/Add       2928 non-null int64\n",
      "Roof Style           2928 non-null object\n",
      "Roof Matl            2928 non-null object\n",
      "Exterior 1st         2928 non-null object\n",
      "Exterior 2nd         2928 non-null object\n",
      "Mas Vnr Area         2928 non-null float64\n",
      "Exter Qual           2928 non-null object\n",
      "Exter Cond           2928 non-null object\n",
      "Foundation           2928 non-null object\n",
      "BsmtFin SF 1         2928 non-null float64\n",
      "BsmtFin SF 2         2928 non-null float64\n",
      "Bsmt Unf SF          2928 non-null float64\n",
      "Total Bsmt SF        2928 non-null float64\n",
      "Heating              2928 non-null object\n",
      "Heating QC           2928 non-null object\n",
      "Central Air          2928 non-null object\n",
      "1st Flr SF           2928 non-null int64\n",
      "2nd Flr SF           2928 non-null int64\n",
      "Low Qual Fin SF      2928 non-null int64\n",
      "Gr Liv Area          2928 non-null int64\n",
      "Bsmt Full Bath       2928 non-null float64\n",
      "Bsmt Half Bath       2928 non-null float64\n",
      "Full Bath            2928 non-null int64\n",
      "Half Bath            2928 non-null int64\n",
      "Bedroom AbvGr        2928 non-null int64\n",
      "Kitchen AbvGr        2928 non-null int64\n",
      "Kitchen Qual         2928 non-null object\n",
      "TotRms AbvGrd        2928 non-null int64\n",
      "Functional           2928 non-null object\n",
      "Fireplaces           2928 non-null int64\n",
      "Garage Cars          2928 non-null float64\n",
      "Garage Area          2928 non-null float64\n",
      "Paved Drive          2928 non-null object\n",
      "Wood Deck SF         2928 non-null int64\n",
      "Open Porch SF        2928 non-null int64\n",
      "Enclosed Porch       2928 non-null int64\n",
      "3Ssn Porch           2928 non-null int64\n",
      "Screen Porch         2928 non-null int64\n",
      "Pool Area            2928 non-null int64\n",
      "Misc Val             2928 non-null int64\n",
      "SalePrice            2928 non-null int64\n",
      "years_until_remod    2928 non-null int64\n",
      "age_when_sold        2928 non-null int64\n",
      "dtypes: float64(9), int64(25), object(25)\n",
      "memory usage: 1.3+ MB\n"
     ]
    }
   ],
   "source": [
    "# Review data\n",
    "print(df.isnull().sum())\n",
    "df.info()"
   ]
  },
  {
   "cell_type": "code",
   "execution_count": 14,
   "metadata": {},
   "outputs": [],
   "source": [
    "# Overwrite transform_features() so that it preforms the above feature engineering steps\n",
    "\n",
    "def transform_features(df):\n",
    "    # Drop all columns that have %5 or more missing values.\n",
    "    percent_missing = df.isnull().sum()/len(df)\n",
    "    drop_missing_cols = percent_missing[percent_missing > 0.05].sort_values()\n",
    "    df = df.drop(drop_missing_cols.index, axis=1)\n",
    "    \n",
    "    # Drop all text columns that have any missing values\n",
    "    text_cols = df.select_dtypes(include=['object'])\n",
    "    missing_values = text_cols.isnull().sum()\n",
    "    drop_missing_cols = missing_values[missing_values > 0]\n",
    "    df = df.drop(drop_missing_cols.index, axis=1)\n",
    "    \n",
    "    # Fill missing continuous numerical data with mean & \n",
    "    # fill missing ordinal/nominal numerical data with mode\n",
    "    num_cols = df.select_dtypes(include=['int64','float64'])\n",
    "    on = []\n",
    "    con = []\n",
    "    # By reviewing the data set I found that none of the ordinal/nominal data has more the 16 possibilities\n",
    "    for col in num_cols.columns:\n",
    "        if len(num_cols[col].unique()) > 16:\n",
    "            con.append(col)\n",
    "        else:\n",
    "            on.append(col)\n",
    "    df[on] = df[on].fillna(df[on].mode().iloc[0])\n",
    "    df[con] = df[con].fillna(df[con].mean())\n",
    "    \n",
    "    # Create new features, that better captures the information.\n",
    "    # The 'Year Remod/Add' & 'Year Built' columns to calculate the years after the house\n",
    "    # was built until it was remodeled\n",
    "    df['years_until_remod'] = df['Year Remod/Add'] - df['Year Built']\n",
    "    # Similar to the above transformation... Yr Sold would provide better information if we altered it\n",
    "    # to the age of the house when sold.\n",
    "    df['age_when_sold'] = df['Yr Sold'] - df['Year Built']\n",
    "    # Remove rows with negative values\n",
    "    df = df.drop([850,2180], axis=0)\n",
    "    # No longer need original year columns\n",
    "    df = df.drop(['Yr Sold', 'Year Built'], axis=1)\n",
    "    \n",
    "    # Drop columns that aren't useful for ML\n",
    "    df = df.drop(['Order', 'PID'], axis=1)\n",
    "\n",
    "    # These columns have information that cannot be known \n",
    "    # prior to the sale, as such they leak data.\n",
    "    df = df.drop([\"Mo Sold\", \"Sale Condition\", \"Sale Type\"], axis=1)\n",
    "    \n",
    "    # This column really should be text as it is listed as Nominal in the data description document\n",
    "    df['MS SubClass'] = df['MS SubClass'].astype('object')\n",
    "    \n",
    "    return df"
   ]
  },
  {
   "cell_type": "code",
   "execution_count": 15,
   "metadata": {},
   "outputs": [
    {
     "name": "stdout",
     "output_type": "stream",
     "text": [
      "MS SubClass          0\n",
      "MS Zoning            0\n",
      "Lot Area             0\n",
      "Street               0\n",
      "Lot Shape            0\n",
      "Land Contour         0\n",
      "Utilities            0\n",
      "Lot Config           0\n",
      "Land Slope           0\n",
      "Neighborhood         0\n",
      "Condition 1          0\n",
      "Condition 2          0\n",
      "Bldg Type            0\n",
      "House Style          0\n",
      "Overall Qual         0\n",
      "Overall Cond         0\n",
      "Year Remod/Add       0\n",
      "Roof Style           0\n",
      "Roof Matl            0\n",
      "Exterior 1st         0\n",
      "Exterior 2nd         0\n",
      "Mas Vnr Area         0\n",
      "Exter Qual           0\n",
      "Exter Cond           0\n",
      "Foundation           0\n",
      "BsmtFin SF 1         0\n",
      "BsmtFin SF 2         0\n",
      "Bsmt Unf SF          0\n",
      "Total Bsmt SF        0\n",
      "Heating              0\n",
      "Heating QC           0\n",
      "Central Air          0\n",
      "1st Flr SF           0\n",
      "2nd Flr SF           0\n",
      "Low Qual Fin SF      0\n",
      "Gr Liv Area          0\n",
      "Bsmt Full Bath       0\n",
      "Bsmt Half Bath       0\n",
      "Full Bath            0\n",
      "Half Bath            0\n",
      "Bedroom AbvGr        0\n",
      "Kitchen AbvGr        0\n",
      "Kitchen Qual         0\n",
      "TotRms AbvGrd        0\n",
      "Functional           0\n",
      "Fireplaces           0\n",
      "Garage Cars          0\n",
      "Garage Area          0\n",
      "Paved Drive          0\n",
      "Wood Deck SF         0\n",
      "Open Porch SF        0\n",
      "Enclosed Porch       0\n",
      "3Ssn Porch           0\n",
      "Screen Porch         0\n",
      "Pool Area            0\n",
      "Misc Val             0\n",
      "SalePrice            0\n",
      "years_until_remod    0\n",
      "age_when_sold        0\n",
      "dtype: int64\n",
      "<class 'pandas.core.frame.DataFrame'>\n",
      "Int64Index: 2928 entries, 0 to 2929\n",
      "Data columns (total 59 columns):\n",
      "MS SubClass          2928 non-null object\n",
      "MS Zoning            2928 non-null object\n",
      "Lot Area             2928 non-null int64\n",
      "Street               2928 non-null object\n",
      "Lot Shape            2928 non-null object\n",
      "Land Contour         2928 non-null object\n",
      "Utilities            2928 non-null object\n",
      "Lot Config           2928 non-null object\n",
      "Land Slope           2928 non-null object\n",
      "Neighborhood         2928 non-null object\n",
      "Condition 1          2928 non-null object\n",
      "Condition 2          2928 non-null object\n",
      "Bldg Type            2928 non-null object\n",
      "House Style          2928 non-null object\n",
      "Overall Qual         2928 non-null int64\n",
      "Overall Cond         2928 non-null int64\n",
      "Year Remod/Add       2928 non-null int64\n",
      "Roof Style           2928 non-null object\n",
      "Roof Matl            2928 non-null object\n",
      "Exterior 1st         2928 non-null object\n",
      "Exterior 2nd         2928 non-null object\n",
      "Mas Vnr Area         2928 non-null float64\n",
      "Exter Qual           2928 non-null object\n",
      "Exter Cond           2928 non-null object\n",
      "Foundation           2928 non-null object\n",
      "BsmtFin SF 1         2928 non-null float64\n",
      "BsmtFin SF 2         2928 non-null float64\n",
      "Bsmt Unf SF          2928 non-null float64\n",
      "Total Bsmt SF        2928 non-null float64\n",
      "Heating              2928 non-null object\n",
      "Heating QC           2928 non-null object\n",
      "Central Air          2928 non-null object\n",
      "1st Flr SF           2928 non-null int64\n",
      "2nd Flr SF           2928 non-null int64\n",
      "Low Qual Fin SF      2928 non-null int64\n",
      "Gr Liv Area          2928 non-null int64\n",
      "Bsmt Full Bath       2928 non-null float64\n",
      "Bsmt Half Bath       2928 non-null float64\n",
      "Full Bath            2928 non-null int64\n",
      "Half Bath            2928 non-null int64\n",
      "Bedroom AbvGr        2928 non-null int64\n",
      "Kitchen AbvGr        2928 non-null int64\n",
      "Kitchen Qual         2928 non-null object\n",
      "TotRms AbvGrd        2928 non-null int64\n",
      "Functional           2928 non-null object\n",
      "Fireplaces           2928 non-null int64\n",
      "Garage Cars          2928 non-null float64\n",
      "Garage Area          2928 non-null float64\n",
      "Paved Drive          2928 non-null object\n",
      "Wood Deck SF         2928 non-null int64\n",
      "Open Porch SF        2928 non-null int64\n",
      "Enclosed Porch       2928 non-null int64\n",
      "3Ssn Porch           2928 non-null int64\n",
      "Screen Porch         2928 non-null int64\n",
      "Pool Area            2928 non-null int64\n",
      "Misc Val             2928 non-null int64\n",
      "SalePrice            2928 non-null int64\n",
      "years_until_remod    2928 non-null int64\n",
      "age_when_sold        2928 non-null int64\n",
      "dtypes: float64(9), int64(24), object(26)\n",
      "memory usage: 1.3+ MB\n"
     ]
    }
   ],
   "source": [
    "# Quick Check that we get the same results as above\n",
    "df = transform_features(data)\n",
    "print(df.isnull().sum())\n",
    "df.info()"
   ]
  },
  {
   "cell_type": "markdown",
   "metadata": {},
   "source": [
    "## Feature Selection\n",
    "*  Generate a correlation heatmap matrix of the numerical features in the training data set.\n",
    "  *  Which features correlate strongly with our target column, __SalePrice__?\n",
    "  *  Calculate the correlation coefficients for the columns that seem to correlate well with __SalePrice__. Because we have a pipeline in place, it's easy to try different features and see which features result in a better cross validation score.\n",
    "*  Which columns in the data frame should be converted to the categorical data type? All of the columns marked as __nominal__ from the [documentation](DataDocumentation.txt) are candidates for being converted to categorical. Here are some other things you should think about:\n",
    "  *  If a categorical column has hundreds of unique values (or categories), should you keep it? When you dummy code this column, hundreds of columns will need to be added back to the data frame.\n",
    "  *  Which categorical columns have a few unique values but more than 95% of the values in the column belong to a specific category? This would be similar to a low variance numerical feature (no variability in the data for the model to capture).\n",
    "*  Which columns are currently numerical but need to be encoded as categorical instead (because the numbers don't have any semantic meaning)?\n",
    "*  What are some ways we can explore which categorical columns \"correlate\" well with __SalePrice__?\n",
    "  *  Read this post for some [potential strategies](https://machinelearningmastery.com/feature-selection-machine-learning-python/).\n",
    "*  Update the logic for the __select_features()__ function. This function should take in the new, modified train and test data frames that were returned from __transform_features()__."
   ]
  },
  {
   "cell_type": "markdown",
   "metadata": {},
   "source": [
    "#### Dealing with the numerical columns 1st"
   ]
  },
  {
   "cell_type": "code",
   "execution_count": 29,
   "metadata": {},
   "outputs": [
    {
     "data": {
      "text/plain": [
       "SalePrice            1.000000\n",
       "Overall Qual         0.800279\n",
       "Gr Liv Area          0.712893\n",
       "Garage Area          0.641433\n",
       "Total Bsmt SF        0.641287\n",
       "age_when_sold        0.559042\n",
       "Year Remod/Add       0.533076\n",
       "Mas Vnr Area         0.509181\n",
       "Fireplaces           0.475073\n",
       "BsmtFin SF 1         0.437376\n",
       "Wood Deck SF         0.327790\n",
       "Open Porch SF        0.315141\n",
       "2nd Flr SF           0.269518\n",
       "Lot Area             0.267122\n",
       "years_until_remod    0.240133\n",
       "Bsmt Unf SF          0.182944\n",
       "Bedroom AbvGr        0.143939\n",
       "Enclosed Porch       0.128756\n",
       "Kitchen AbvGr        0.119795\n",
       "Screen Porch         0.112187\n",
       "Overall Cond         0.101652\n",
       "Pool Area            0.068411\n",
       "Low Qual Fin SF      0.037649\n",
       "Bsmt Half Bath       0.035934\n",
       "3Ssn Porch           0.032236\n",
       "Misc Val             0.019295\n",
       "BsmtFin SF 2         0.005922\n",
       "Name: SalePrice, dtype: float64"
      ]
     },
     "execution_count": 29,
     "metadata": {},
     "output_type": "execute_result"
    }
   ],
   "source": [
    "# Determine the extent that each numerical training feature coorelates to the target (SalePrice).\n",
    "corrmat = df.select_dtypes(include=['int64','float64']).corr()\n",
    "sorted_corrs = corrmat['SalePrice'].abs().sort_values(ascending=False)\n",
    "sorted_corrs"
   ]
  },
  {
   "cell_type": "code",
   "execution_count": 17,
   "metadata": {},
   "outputs": [
    {
     "data": {
      "text/plain": [
       "<matplotlib.axes._subplots.AxesSubplot at 0x2733395ada0>"
      ]
     },
     "execution_count": 17,
     "metadata": {},
     "output_type": "execute_result"
    },
    {
     "data": {
      "image/png": "[encoded data removed]",
      "text/plain": [
       "<matplotlib.figure.Figure at 0x273349e9fd0>"
      ]
     },
     "metadata": {},
     "output_type": "display_data"
    }
   ],
   "source": [
    "# Determine the extent of colinearity for each numerical training feature\n",
    "# Limit the check to features with a correlation to the SalePrice >= 0.25\n",
    "strong_corrs = sorted_corrs[sorted_corrs >= 0.25]\n",
    "corrmat = df[strong_corrs.index].corr().abs()\n",
    "fig = plt.subplots()\n",
    "plt.yticks(rotation=0) \n",
    "plt.xticks(rotation=90)\n",
    "sns.heatmap(corrmat)"
   ]
  },
  {
   "cell_type": "markdown",
   "metadata": {},
   "source": [
    "#### Features with relatively strong colinearity\n",
    "1. 1st Flr SF (Continuous) & Total Basmt SF (Continuous)\n",
    "1. Gr Liv Area (Continuous) & Full Bath (Discrete)\n",
    "1. Gr Liv Area (Continuous) & Half Bath (Discrete)\n",
    "1. Gr Liv Area (Continuous) & TotRms AbvGrd (Discrete)\n",
    "1. Garage Area (Continuous) & Garage Cars (Discrete)\n",
    "1. TotRms AbvGrd (Discrete) & Full Bath (Discrete)\n",
    "1. Bsmt Full Bath (Discrete) & BsmtFin SF1 (Continuous)\n",
    "1. Half Bath (Discrete) & TotRms AbvGrd (Continuous)\n",
    "1. 2nd Flr SF (Continuous) & Half Bath (Discrete)\n",
    "1. 2nd Flr SF (Continuous) & TotRms AbvGrd (Discrete)\n",
    "1. Gr Liv Area (Continuous) & 2nd Flr SF (Continuous)\n",
    "\n",
    "#### To determine which features will be kept and which features will be dropped, the following set of criteria will be applied:\n",
    "* Features that more strongly correlate with the target (SalePrice)\n",
    "* Continuous data features will be favored"
   ]
  },
  {
   "cell_type": "code",
   "execution_count": 27,
   "metadata": {},
   "outputs": [
    {
     "data": {
      "text/plain": [
       "Gr Liv Area       0.712893\n",
       "Garage Cars       0.648071\n",
       "Garage Area       0.641433\n",
       "Total Bsmt SF     0.641287\n",
       "1st Flr SF        0.632531\n",
       "Full Bath         0.545641\n",
       "TotRms AbvGrd     0.497966\n",
       "BsmtFin SF 1      0.437376\n",
       "Half Bath         0.285217\n",
       "Bsmt Full Bath    0.275820\n",
       "2nd Flr SF        0.269518\n",
       "Name: SalePrice, dtype: float64"
      ]
     },
     "execution_count": 27,
     "metadata": {},
     "output_type": "execute_result"
    }
   ],
   "source": [
    "colinearity_cols = ['2nd Flr SF', '1st Flr SF', 'Total Bsmt SF', 'Gr Liv Area', 'TotRms AbvGrd', 'Full Bath',\n",
    "                    'Half Bath', 'Garage Area', 'Garage Cars', 'Bsmt Full Bath', 'BsmtFin SF 1']\n",
    "sorted_corrs = corrmat['SalePrice'].abs()\n",
    "sorted_corrs.loc[colinearity_cols].sort_values(ascending=False)"
   ]
  },
  {
   "cell_type": "markdown",
   "metadata": {},
   "source": [
    "#### Based upon the criteria listed above the following features will be kept or dropped.\n",
    "* __Featues Kept__\n",
    "  1. Total Bsmt SF\n",
    "  1. Gr Liv Area\n",
    "  1. Garage Area\n",
    "  1. BsmtFin SF 1\n",
    "* __Featues Dropped__\n",
    "  1. 1st Flr SF\n",
    "  1. TotRms AbvGrd\n",
    "  1. Full Bath\n",
    "  1. Half Bath\n",
    "  1. Garage Cars\n",
    "  1. Bsmt Full Bath\n",
    "  1. 2nd Flr SF\n"
   ]
  },
  {
   "cell_type": "code",
   "execution_count": 19,
   "metadata": {
    "collapsed": true
   },
   "outputs": [],
   "source": [
    "# Drop the columns due to colinearity\n",
    "dropped_colinearity = ['1st Flr SF', 'TotRms AbvGrd', 'Full Bath', \n",
    "                       'Half Bath', 'Garage Cars', 'Bsmt Full Bath', '2nd Flr SF']\n",
    "df = df.drop(dropped_colinearity, axis=1)"
   ]
  },
  {
   "cell_type": "code",
   "execution_count": 20,
   "metadata": {},
   "outputs": [
    {
     "name": "stdout",
     "output_type": "stream",
     "text": [
      "Max Values\n",
      "Lot Area             1.0\n",
      "Overall Qual         1.0\n",
      "Overall Cond         1.0\n",
      "Year Remod/Add       1.0\n",
      "Mas Vnr Area         1.0\n",
      "BsmtFin SF 1         1.0\n",
      "BsmtFin SF 2         1.0\n",
      "Bsmt Unf SF          1.0\n",
      "Total Bsmt SF        1.0\n",
      "2nd Flr SF           1.0\n",
      "Low Qual Fin SF      1.0\n",
      "Gr Liv Area          1.0\n",
      "Bsmt Half Bath       1.0\n",
      "Bedroom AbvGr        1.0\n",
      "Kitchen AbvGr        1.0\n",
      "Fireplaces           1.0\n",
      "Garage Area          1.0\n",
      "Wood Deck SF         1.0\n",
      "Open Porch SF        1.0\n",
      "Enclosed Porch       1.0\n",
      "3Ssn Porch           1.0\n",
      "Screen Porch         1.0\n",
      "Pool Area            1.0\n",
      "Misc Val             1.0\n",
      "SalePrice            1.0\n",
      "years_until_remod    1.0\n",
      "age_when_sold        1.0\n",
      "dtype: float64\n",
      "\n",
      "Min Values\n",
      "Lot Area             0.0\n",
      "Overall Qual         0.0\n",
      "Overall Cond         0.0\n",
      "Year Remod/Add       0.0\n",
      "Mas Vnr Area         0.0\n",
      "BsmtFin SF 1         0.0\n",
      "BsmtFin SF 2         0.0\n",
      "Bsmt Unf SF          0.0\n",
      "Total Bsmt SF        0.0\n",
      "2nd Flr SF           0.0\n",
      "Low Qual Fin SF      0.0\n",
      "Gr Liv Area          0.0\n",
      "Bsmt Half Bath       0.0\n",
      "Bedroom AbvGr        0.0\n",
      "Kitchen AbvGr        0.0\n",
      "Fireplaces           0.0\n",
      "Garage Area          0.0\n",
      "Wood Deck SF         0.0\n",
      "Open Porch SF        0.0\n",
      "Enclosed Porch       0.0\n",
      "3Ssn Porch           0.0\n",
      "Screen Porch         0.0\n",
      "Pool Area            0.0\n",
      "Misc Val             0.0\n",
      "SalePrice            0.0\n",
      "years_until_remod    0.0\n",
      "age_when_sold        0.0\n",
      "dtype: float64\n",
      "\n",
      "\n",
      "Sorted Variance Values\n",
      "Year Remod/Add       0.120873\n",
      "age_when_sold        0.049601\n",
      "2nd Flr SF           0.043049\n",
      "years_until_remod    0.035826\n",
      "Bsmt Unf SF          0.035382\n",
      "Fireplaces           0.026206\n",
      "Overall Qual         0.024529\n",
      "Garage Area          0.020820\n",
      "Overall Cond         0.019315\n",
      "Bsmt Half Bath       0.014962\n",
      "BsmtFin SF 2         0.012293\n",
      "Mas Vnr Area         0.012274\n",
      "SalePrice            0.011593\n",
      "Bedroom AbvGr        0.010709\n",
      "Screen Porch         0.009488\n",
      "Gr Liv Area          0.008919\n",
      "Open Porch SF        0.008159\n",
      "Wood Deck SF         0.007845\n",
      "BsmtFin SF 1         0.006374\n",
      "Kitchen AbvGr        0.005095\n",
      "Total Bsmt SF        0.005051\n",
      "Enclosed Porch       0.004019\n",
      "3Ssn Porch           0.002451\n",
      "Pool Area            0.001981\n",
      "Low Qual Fin SF      0.001896\n",
      "Lot Area             0.001351\n",
      "Misc Val             0.000927\n",
      "dtype: float64\n",
      "Low Variance Features\n"
     ]
    },
    {
     "data": {
      "text/plain": [
       "Bsmt Half Bath     0.014962\n",
       "BsmtFin SF 2       0.012293\n",
       "Mas Vnr Area       0.012274\n",
       "SalePrice          0.011593\n",
       "Bedroom AbvGr      0.010709\n",
       "Screen Porch       0.009488\n",
       "Gr Liv Area        0.008919\n",
       "Open Porch SF      0.008159\n",
       "Wood Deck SF       0.007845\n",
       "BsmtFin SF 1       0.006374\n",
       "Kitchen AbvGr      0.005095\n",
       "Total Bsmt SF      0.005051\n",
       "Enclosed Porch     0.004019\n",
       "3Ssn Porch         0.002451\n",
       "Pool Area          0.001981\n",
       "Low Qual Fin SF    0.001896\n",
       "Lot Area           0.001351\n",
       "Misc Val           0.000927\n",
       "dtype: float64"
      ]
     },
     "execution_count": 20,
     "metadata": {},
     "output_type": "execute_result"
    }
   ],
   "source": [
    "# Display the variance for each numerical training feature\n",
    "# Of the remaining features, a variance check will be done\n",
    "# Those with low variance (<0.015) will be dropped\n",
    "\n",
    "numerical = df.select_dtypes(include=['int64','float64'])\n",
    "\n",
    "# Rescale the numerical columns\n",
    "unit = (numerical - numerical.min()) / (numerical.max() - numerical.min())\n",
    "\n",
    "# Verify rescaling worked\n",
    "print('Max Values')\n",
    "print(unit.max())\n",
    "print('\\nMin Values')\n",
    "print(unit.min())\n",
    "\n",
    "sorted_vars = unit.var().sort_values(ascending=False)\n",
    "print('\\n\\nSorted Variance Values')\n",
    "print(sorted_vars)\n",
    "\n",
    "print('Low Variance Features')\n",
    "sorted_vars[sorted_vars<0.015]"
   ]
  },
  {
   "cell_type": "markdown",
   "metadata": {},
   "source": [
    "#### Handling the text columns"
   ]
  },
  {
   "cell_type": "code",
   "execution_count": 21,
   "metadata": {},
   "outputs": [
    {
     "data": {
      "text/plain": [
       "Neighborhood    28\n",
       "Exterior 2nd    17\n",
       "MS SubClass     16\n",
       "Exterior 1st    16\n",
       "Condition 1      9\n",
       "Condition 2      8\n",
       "Functional       8\n",
       "Roof Matl        8\n",
       "House Style      8\n",
       "MS Zoning        7\n",
       "Foundation       6\n",
       "Roof Style       6\n",
       "Heating          6\n",
       "Kitchen Qual     5\n",
       "Bldg Type        5\n",
       "Heating QC       5\n",
       "Exter Cond       5\n",
       "Lot Config       5\n",
       "Land Contour     4\n",
       "Lot Shape        4\n",
       "Exter Qual       4\n",
       "Utilities        3\n",
       "Land Slope       3\n",
       "Paved Drive      3\n",
       "Street           2\n",
       "Central Air      2\n",
       "dtype: int64"
      ]
     },
     "execution_count": 21,
     "metadata": {},
     "output_type": "execute_result"
    }
   ],
   "source": [
    "# Filter for text columns and determine the number of unique values\n",
    "text_cols = df.select_dtypes(include=['object'])\n",
    "\n",
    "uv = []\n",
    "for col in text_cols.columns:\n",
    "    uv.append(len(text_cols[col].unique()))\n",
    "    \n",
    "unique_vals = pd.Series(data=uv, index=text_cols.columns).sort_values(ascending=False)\n",
    "unique_vals"
   ]
  },
  {
   "cell_type": "code",
   "execution_count": 22,
   "metadata": {},
   "outputs": [
    {
     "data": {
      "text/plain": [
       "Index([      'Lot Area',   'Overall Qual',   'Overall Cond', 'Year Remod/Add',\n",
       "         'Mas Vnr Area',   'BsmtFin SF 1',   'BsmtFin SF 2',    'Bsmt Unf SF',\n",
       "        'Total Bsmt SF',     '2nd Flr SF',\n",
       "       ...\n",
       "                 'Maj2',           'Min1',           'Min2',            'Mod',\n",
       "                  'Sal',            'Sev',            'Typ',              'N',\n",
       "                    'P',              'Y'],\n",
       "      dtype='object', length=220)"
      ]
     },
     "execution_count": 22,
     "metadata": {},
     "output_type": "execute_result"
    }
   ],
   "source": [
    "# For each nominal value do the following:\n",
    "    # categorize the type\n",
    "    # create dummy columns\n",
    "    # append to the training df\n",
    "    # remove the original column\n",
    "    \n",
    "for col in text_cols.columns:\n",
    "    col_dummies = pd.get_dummies(df[col])\n",
    "    df = pd.concat([df, col_dummies], axis=1)\n",
    "    df = df.drop([col], axis=1)\n",
    "\n",
    "df.columns"
   ]
  },
  {
   "cell_type": "code",
   "execution_count": 23,
   "metadata": {
    "collapsed": true
   },
   "outputs": [],
   "source": [
    "# Overwrite transform_features() so that it preforms the above feature engineering steps\n",
    "# parameterize the following thresholds: correlation, variance, & number of unique values\n",
    "\n",
    "def select_features(df, correlation, variance, unique_vals):\n",
    "    target = 'SalePrice'\n",
    "    features = []\n",
    "    \n",
    "    # Drop the columns due to colinearity\n",
    "    dropped_colinearity = ['1st Flr SF', 'TotRms AbvGrd', 'Full Bath', \n",
    "                       'Half Bath', 'Garage Cars', 'Bsmt Full Bath', '2nd Flr SF']\n",
    "     df = df.drop(dropped_colinearity.index, axis=1)\n",
    "    \n",
    "    # Drop each column that fails the correlation threshold\n",
    "    corrmat = df.select_dtypes(include=['int64','float64']).corr()\n",
    "    corrs = corrmat[target].abs()\n",
    "    weak_corrs = corrs[corrs < correlation]\n",
    "    df = df.drop(weak_corrs.index, axis=1)\n",
    "    \n",
    "    # Drop each column that fails the variance threshold\n",
    "    \n",
    "    \n",
    "    # Drop each column that exceeds the unique_vals threshold\n",
    "    \n",
    "    return features, target"
   ]
  },
  {
   "cell_type": "markdown",
   "metadata": {},
   "source": [
    "## 04 Train & Test\n",
    "*  The optional __k__ parameter should accept integer values, with a default value of __0__.\n",
    "*  When __k__ equals __0__, perform holdout validation (what we already implemented):\n",
    "  *  Select the first __1460__ rows and assign to __train__.\n",
    "  *  Select the remaining rows and assign to __test__.\n",
    "  *  Train on train and test on __test__.\n",
    "  *  Compute the RMSE and return.\n",
    "*  When __k__ equals __1__, perform simple cross validation:\n",
    "  *  Shuffle the ordering of the rows in the data frame.\n",
    "  *  Select the first __1460__ rows and assign to __fold_one__.\n",
    "  *  Select the remaining rows and assign to __fold_two__.\n",
    "  *  Train on __fold_one__ and test on __fold_two__.\n",
    "  *  Train on __fold_two__ and test on __fold_one__.\n",
    "  *  Compute the average RMSE and return.\n",
    "*  When __k__ is greater than __0__, implement k-fold cross validation using __k__ folds:\n",
    "  *  Perform k-fold cross validation using __k__ folds.\n",
    "  *  Calculate the average RMSE value and return this value."
   ]
  }
 ],
 "metadata": {
  "kernelspec": {
   "display_name": "Python 3",
   "language": "python",
   "name": "python3"
  },
  "language_info": {
   "codemirror_mode": {
    "name": "ipython",
    "version": 3
   },
   "file_extension": ".py",
   "mimetype": "text/x-python",
   "name": "python",
   "nbconvert_exporter": "python",
   "pygments_lexer": "ipython3",
   "version": "3.6.1"
  }
 },
 "nbformat": 4,
 "nbformat_minor": 2
}

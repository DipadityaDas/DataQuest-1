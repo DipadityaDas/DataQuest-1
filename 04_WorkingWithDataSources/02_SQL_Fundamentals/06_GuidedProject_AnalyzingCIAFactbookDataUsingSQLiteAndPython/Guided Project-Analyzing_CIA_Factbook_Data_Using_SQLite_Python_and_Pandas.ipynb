{
 "cells": [
  {
   "cell_type": "markdown",
   "metadata": {},
   "source": [
    "### <font color=blue>01 Overview of the Data</font>\n",
    "-  <font color=black>Import pandas and sqlite3.</font>\n",
    "-  <font color=black>Connect to factbook.db and use pandas.read_sql_query() to return information on the tables in the database.</font>\n",
    "-  <font color=black>Write and run another query that returns the first 5 rows of the only table in the database.</font>"
   ]
  },
  {
   "cell_type": "code",
   "execution_count": 1,
   "metadata": {},
   "outputs": [
    {
     "name": "stdout",
     "output_type": "stream",
     "text": [
      "    type             name         tbl_name  rootpage  \\\n",
      "0  table            facts            facts         2   \n",
      "1  table  sqlite_sequence  sqlite_sequence         3   \n",
      "\n",
      "                                                 sql  \n",
      "0  CREATE TABLE \"facts\" (\"id\" INTEGER PRIMARY KEY...  \n",
      "1             CREATE TABLE sqlite_sequence(name,seq)  \n"
     ]
    }
   ],
   "source": [
    "import sqlite3\n",
    "import pandas as pd\n",
    "\n",
    "conn = sqlite3.connect('factbook.db')\n",
    "cursor = conn.cursor()\n",
    "\n",
    "q = \"SELECT * FROM sqlite_master WHERE type='table';\"\n",
    "factbook_table = pd.read_sql_query(q, conn)\n",
    "print(factbook_table)"
   ]
  },
  {
   "cell_type": "code",
   "execution_count": 2,
   "metadata": {},
   "outputs": [
    {
     "name": "stdout",
     "output_type": "stream",
     "text": [
      "   id code         name       area  area_land  area_water  population  \\\n",
      "0   1   af  Afghanistan   652230.0   652230.0         0.0  32564342.0   \n",
      "1   2   al      Albania    28748.0    27398.0      1350.0   3029278.0   \n",
      "2   3   ag      Algeria  2381741.0  2381741.0         0.0  39542166.0   \n",
      "3   4   an      Andorra      468.0      468.0         0.0     85580.0   \n",
      "4   5   ao       Angola  1246700.0  1246700.0         0.0  19625353.0   \n",
      "\n",
      "   population_growth  birth_rate  death_rate  migration_rate  \\\n",
      "0               2.32       38.57       13.89            1.51   \n",
      "1               0.30       12.92        6.58            3.30   \n",
      "2               1.84       23.67        4.31            0.92   \n",
      "3               0.12        8.13        6.96            0.00   \n",
      "4               2.78       38.78       11.49            0.46   \n",
      "\n",
      "                   created_at                  updated_at  \n",
      "0  2015-11-01 13:19:49.461734  2015-11-01 13:19:49.461734  \n",
      "1  2015-11-01 13:19:54.431082  2015-11-01 13:19:54.431082  \n",
      "2  2015-11-01 13:19:59.961286  2015-11-01 13:19:59.961286  \n",
      "3  2015-11-01 13:20:03.659945  2015-11-01 13:20:03.659945  \n",
      "4  2015-11-01 13:20:08.625072  2015-11-01 13:20:08.625072  \n"
     ]
    }
   ],
   "source": [
    "table_name = factbook_table.loc[0]['tbl_name']\n",
    "q = \"SELECT * FROM {}\".format(table_name)\n",
    "factbook = pd.read_sql_query(q, conn)\n",
    "print(factbook.head(5))"
   ]
  },
  {
   "cell_type": "markdown",
   "metadata": {},
   "source": []
  },
  {
   "cell_type": "markdown",
   "metadata": {},
   "source": [
    "### <font color=blue>02 Summary Statistics</font>\n",
    "##### <font color=black>Write a single query that returns the following:</font>\n",
    "-  <font color=black>minimum population</font>\n",
    "-  <font color=black>maximum population growth</font>\n",
    "-  <font color=black>minimum population growth</font>\n",
    "-  <font color=black>maximum population growth</font>"
   ]
  },
  {
   "cell_type": "code",
   "execution_count": 3,
   "metadata": {},
   "outputs": [
    {
     "name": "stdout",
     "output_type": "stream",
     "text": [
      "minimum population:\t\t 0.0\n",
      "maximum population:\t\t 7256490011.0\n",
      "minimum population growth:\t 0.0\n",
      "maximum population growth:\t 4.02\n"
     ]
    }
   ],
   "source": [
    "q = \"SELECT \\\n",
    "        MIN(population) as min_pop, \\\n",
    "        MAX(population) as max_pop, \\\n",
    "        MIN(population_growth) as min_pop_growth, \\\n",
    "        MAX(population_growth) as max_pop_growth \\\n",
    "    FROM {}\".format(table_name)\n",
    "sum_stats = pd.read_sql_query(q, conn)\n",
    "\n",
    "print('minimum population:\\t\\t', sum_stats.loc[0]['min_pop'])\n",
    "print('maximum population:\\t\\t', sum_stats.loc[0]['max_pop'])\n",
    "print('minimum population growth:\\t', sum_stats.loc[0]['min_pop_growth'])\n",
    "print('maximum population growth:\\t', sum_stats.loc[0]['max_pop_growth'])"
   ]
  },
  {
   "cell_type": "markdown",
   "metadata": {},
   "source": [
    "### <font color=blue>03 Exploring Outliers</font>\n",
    "-  <font color=black>Write a query that returns the countrie(s) with a population of 0.</font>\n",
    "-  <font color=black>Write a query that returns the countrie(s) with a population of 7256490011.</font>\n",
    "-  <font color=black>In a markdown cell, type up your observations on these rows.</font>"
   ]
  },
  {
   "cell_type": "code",
   "execution_count": 4,
   "metadata": {},
   "outputs": [
    {
     "name": "stdout",
     "output_type": "stream",
     "text": [
      "Country with a population of zero: Antarctica\n"
     ]
    }
   ],
   "source": [
    "q = \"SELECT name FROM {} WHERE population = 0\".format(table_name)\n",
    "min_population_country = pd.read_sql_query(q, conn)\n",
    "print('Country with a population of zero:', min_population_country.loc[0]['name'])"
   ]
  },
  {
   "cell_type": "code",
   "execution_count": 5,
   "metadata": {},
   "outputs": [
    {
     "name": "stdout",
     "output_type": "stream",
     "text": [
      "Country with a population of 7256490011: World\n"
     ]
    }
   ],
   "source": [
    "q = \"SELECT name FROM {} WHERE population = 7256490011\".format(table_name)\n",
    "max_population_country = pd.read_sql_query(q, conn)\n",
    "print('Country with a population of 7256490011:', max_population_country.loc[0]['name'])"
   ]
  },
  {
   "cell_type": "markdown",
   "metadata": {},
   "source": [
    "##### <font color=black>Antarctica has a population of zero people, and the worlds population is 7256490011.</font>"
   ]
  },
  {
   "cell_type": "markdown",
   "metadata": {},
   "source": [
    "### <font color=blue>04 Histograms</font>\n",
    "##### <font color=black>Using just the non-outlier rows, generate a 2 by 2 grid of histograms for the following columns:</font>\n",
    "-  <font color=black>population</font>\n",
    "-  <font color=black>population_growth</font>\n",
    "-  <font color=black>birth_rate</font>\n",
    "-  <font color=black>death_rate</font>"
   ]
  },
  {
   "cell_type": "code",
   "execution_count": 6,
   "metadata": {},
   "outputs": [
    {
     "name": "stderr",
     "output_type": "stream",
     "text": [
      "C:\\ProgramData\\Anaconda3\\lib\\site-packages\\IPython\\core\\interactiveshell.py:2881: UserWarning: To output multiple subplots, the figure containing the passed axes is being cleared\n",
      "  exec(code_obj, self.user_global_ns, self.user_ns)\n"
     ]
    },
    {
     "data": {
      "text/plain": [
       "array([[<matplotlib.axes._subplots.AxesSubplot object at 0x00000234ECE4EE48>,\n",
       "        <matplotlib.axes._subplots.AxesSubplot object at 0x00000234ECDE5978>],\n",
       "       [<matplotlib.axes._subplots.AxesSubplot object at 0x00000234ED077EB8>,\n",
       "        <matplotlib.axes._subplots.AxesSubplot object at 0x00000234ED133748>]], dtype=object)"
      ]
     },
     "execution_count": 6,
     "metadata": {},
     "output_type": "execute_result"
    },
    {
     "data": {
      "image/png": "[encoded data removed]",
      "text/plain": [
       "<matplotlib.figure.Figure at 0x234eb7146d8>"
      ]
     },
     "metadata": {},
     "output_type": "display_data"
    }
   ],
   "source": [
    "import matplotlib.pyplot as plt\n",
    "import seaborn as sns\n",
    "%matplotlib inline\n",
    "\n",
    "fig = plt.figure(figsize=(15,15))\n",
    "ax = fig.add_subplot(111)\n",
    "\n",
    "q = \"SELECT \\\n",
    "        population pop, \\\n",
    "        population_growth pop_growth, \\\n",
    "        birth_rate, \\\n",
    "        death_rate \\\n",
    "    FROM {} \\\n",
    "    WHERE \\\n",
    "        pop != 0 or \\\n",
    "        pop != 7256490011\".format(table_name)\n",
    "non_outlier_data = pd.read_sql_query(q, conn)\n",
    "non_outlier_data.hist(ax=ax)"
   ]
  },
  {
   "cell_type": "markdown",
   "metadata": {},
   "source": [
    "##### <font color=black>Histograms descriptions:</font>\n",
    "-  <font color=black>__birth rate:__ The majority of countries on earth have a birth rate 25% or less.  The top three values are 5%, 10%, 15%, each with 42, 50, and 38 countries respectively.  There is a general trend of decreasing countories with increasing birth rate.</font>\n",
    "-  <font color=black>__death rate:__ The maximum value is approximately the mean with about 52 countries at 8%.  In general the number of countries decreases if your either increase or decrease the death rate from the mean.</font>\n",
    "-  <font color=black>__population:__ Nearly 250 (almost all) countries have under a billion people. The data would have to be scaled differently to glean better information.  Less than 10 countries have a billion or more people.</font>\n",
    "-  <font color=black>__Population Growth:__ The majority of countries on earth have a population growth of 2.0% or less.  The top three values are 5%, 10%, 15%, each with 42, 50, and 38 countries respectively.  There is a general trend of decreasing countories with increasing birth rate.</font>"
   ]
  },
  {
   "cell_type": "markdown",
   "metadata": {},
   "source": [
    "### <font color=blue>05 Next Steps</font>\n",
    "##### <font color=black>That's it for the guided steps. Here are some next steps for you to explore:</font>\n",
    "\n",
    "-  <font color=black>Which countries have the highest population density? (Population density is the ratio of population to land area. Compare your results with those from Wikipedia.)</font>\n",
    "-  <font color=black>Generate a histogram of population densities.</font>\n",
    "-  <font color=black>Which countries have the highest ratios of water to land?</font>\n",
    "-  <font color=black>Which countries have more water than land?</font>"
   ]
  },
  {
   "cell_type": "code",
   "execution_count": 7,
   "metadata": {},
   "outputs": [
    {
     "name": "stdout",
     "output_type": "stream",
     "text": [
      "Top 10 Countries in population density\n",
      "         name  population_density\n",
      "0       Macau        21168.964286\n",
      "1      Monaco        15267.500000\n",
      "2   Singapore         8141.279770\n",
      "3   Hong Kong         6445.041516\n",
      "4  Gaza Strip         5191.819444\n",
      "5   Gibraltar         4876.333333\n",
      "6     Bahrain         1771.859211\n",
      "7    Maldives         1319.640940\n",
      "8       Malta         1310.015823\n",
      "9     Bermuda         1299.925926\n"
     ]
    },
    {
     "data": {
      "text/plain": [
       "<matplotlib.axes._subplots.AxesSubplot at 0x234eebc4198>"
      ]
     },
     "execution_count": 7,
     "metadata": {},
     "output_type": "execute_result"
    },
    {
     "data": {
      "image/png": "[encoded data removed]",
      "text/plain": [
       "<matplotlib.figure.Figure at 0x234ee31ca58>"
      ]
     },
     "metadata": {},
     "output_type": "display_data"
    }
   ],
   "source": [
    "q = \"SELECT *, cast(population as float)/cast(area as float) as population_density \\\n",
    "    FROM {} \\\n",
    "    WHERE \\\n",
    "        population != 0 or \\\n",
    "        population != 7256490011 \\\n",
    "    ORDER BY population_density DESC\".format(table_name)\n",
    "population_density_outliers_removed = pd.read_sql_query(q, conn)\n",
    "\n",
    "print('Top 10 Countries in population density')\n",
    "print(population_density_outliers_removed[['name', 'population_density']].head(10))\n",
    "\n",
    "population_density_outliers_removed['population_density'].hist()"
   ]
  },
  {
   "cell_type": "code",
   "execution_count": 8,
   "metadata": {},
   "outputs": [
    {
     "ename": "NameError",
     "evalue": "name 'factbook_cleaned' is not defined",
     "output_type": "error",
     "traceback": [
      "\u001b[1;31m---------------------------------------------------------------------------\u001b[0m",
      "\u001b[1;31mNameError\u001b[0m                                 Traceback (most recent call last)",
      "\u001b[1;32m<ipython-input-8-d4f9c563f6d0>\u001b[0m in \u001b[0;36m<module>\u001b[1;34m()\u001b[0m\n\u001b[1;32m----> 1\u001b[1;33m \u001b[0mfactbook_cleaned\u001b[0m\u001b[1;33m[\u001b[0m\u001b[1;34m'water_land_ratio'\u001b[0m\u001b[1;33m]\u001b[0m \u001b[1;33m=\u001b[0m \u001b[0mfactbook_cleaned\u001b[0m\u001b[1;33m[\u001b[0m\u001b[1;34m'area_water'\u001b[0m\u001b[1;33m]\u001b[0m \u001b[1;33m/\u001b[0m \u001b[0mfactbook_cleaned\u001b[0m\u001b[1;33m[\u001b[0m\u001b[1;34m'area_land'\u001b[0m\u001b[1;33m]\u001b[0m\u001b[1;33m\u001b[0m\u001b[0m\n\u001b[0m\u001b[0;32m      2\u001b[0m \u001b[0mfactbook_cleaned\u001b[0m\u001b[1;33m.\u001b[0m\u001b[0msort_values\u001b[0m\u001b[1;33m(\u001b[0m\u001b[0mby\u001b[0m\u001b[1;33m=\u001b[0m\u001b[1;33m[\u001b[0m\u001b[1;34m'water_land_ratio'\u001b[0m\u001b[1;33m]\u001b[0m\u001b[1;33m,\u001b[0m \u001b[0mascending\u001b[0m\u001b[1;33m=\u001b[0m\u001b[1;32mFalse\u001b[0m\u001b[1;33m,\u001b[0m \u001b[0minplace\u001b[0m\u001b[1;33m=\u001b[0m\u001b[1;32mTrue\u001b[0m\u001b[1;33m)\u001b[0m\u001b[1;33m\u001b[0m\u001b[0m\n\u001b[0;32m      3\u001b[0m \u001b[1;31m# factbook_cleaned.reset_index(inplace=True)\u001b[0m\u001b[1;33m\u001b[0m\u001b[1;33m\u001b[0m\u001b[0m\n\u001b[0;32m      4\u001b[0m \u001b[1;33m\u001b[0m\u001b[0m\n\u001b[0;32m      5\u001b[0m \u001b[0mprint\u001b[0m\u001b[1;33m(\u001b[0m\u001b[1;34m'The Top 10 Countries for Water/Land Area Ratio'\u001b[0m\u001b[1;33m)\u001b[0m\u001b[1;33m\u001b[0m\u001b[0m\n",
      "\u001b[1;31mNameError\u001b[0m: name 'factbook_cleaned' is not defined"
     ]
    }
   ],
   "source": [
    "factbook_cleaned['water_land_ratio'] = factbook_cleaned['area_water'] / factbook_cleaned['area_land']\n",
    "factbook_cleaned.sort_values(by=['water_land_ratio'], ascending=False, inplace=True)\n",
    "# factbook_cleaned.reset_index(inplace=True)\n",
    "\n",
    "print('The Top 10 Countries for Water/Land Area Ratio')\n",
    "print(factbook_cleaned[['name', 'water_land_ratio']].head(10))"
   ]
  },
  {
   "cell_type": "code",
   "execution_count": null,
   "metadata": {},
   "outputs": [],
   "source": [
    "q = \"SELECT *, cast(area_water as float)/cast(area_land as float) as water_land_ratio FROM {} \\\n",
    "    WHERE \\\n",
    "        area_water > area_land \\\n",
    "    ORDER BY water_land_ratio DESC\".format(table_name)\n",
    "more_water_than_land_outliers_removed = pd.read_sql_query(q, conn)\n",
    "\n",
    "print('Countries with more water than land')\n",
    "print(more_water_than_land_outliers_removed[['name','water_land_ratio']])"
   ]
  }
 ],
 "metadata": {
  "kernelspec": {
   "display_name": "Python 3",
   "language": "python",
   "name": "python3"
  },
  "language_info": {
   "codemirror_mode": {
    "name": "ipython",
    "version": 3
   },
   "file_extension": ".py",
   "mimetype": "text/x-python",
   "name": "python",
   "nbconvert_exporter": "python",
   "pygments_lexer": "ipython3",
   "version": "3.6.1"
  }
 },
 "nbformat": 4,
 "nbformat_minor": 2
}

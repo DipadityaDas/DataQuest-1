{
 "cells": [
  {
   "cell_type": "markdown",
   "metadata": {},
   "source": [
    "## <font color=blue>*chinook* DB Schema</font>\n",
    "![chinook-schema](https://s3.amazonaws.com/dq-content/189/chinook-schema.svg)"
   ]
  },
  {
   "cell_type": "markdown",
   "metadata": {},
   "source": [
    "# <font color=blue>Tips for writing complex queries<font>\n",
    "-  <font color=black>Write your query in stages, and run it as you go to make sure at each stage it's producing the output you expect.</font>\n",
    "-  <font color=black>If something isn't behaving as you expect, break parts of the query out into their own, separate queries to make sure there's not an inner logic error.</font>\n",
    "-  <font color=black>Don't be afraid to write separate queries to check the underlying data, for instance you might write a query that you can use to manually check a calculation and give yourself confidence that the output you're seeing is correct.</font>\n",
    "-  <font color=black>If you do get stuck, don't forget your support options.</font>"
   ]
  },
  {
   "cell_type": "markdown",
   "metadata": {},
   "source": [
    "### <font color=blue>02 Creating Helper Functions</font>\n",
    "-  <font color=black>Import the psycopg2, pandas and matplotlib modules, and use the magic command <font color=red>*%matplotlib inline*</font> to make sure any plots render in the notebook.</font>\n",
    "-  <font color=black>Create a <font color=red>*run_query()*</font> function, that takes a SQL query as an argument and returns a pandas dataframe of that query.</font>\n",
    "-  <font color=black>Create a <font color=red>*run_command()*</font> function that takes a SQL command as an argument and executes it using the sqlite module.</font>\n",
    "-  <font color=black>Create a <font color=red>*show_tables()*</font> function that calls the <font color=red>*run_query()*</font> function to return a list of all tables and views in the database.</font>\n",
    "-  <font color=black>Run the <font color=red>*show_tables()*</font> function.</font>"
   ]
  },
  {
   "cell_type": "code",
   "execution_count": 126,
   "metadata": {},
   "outputs": [],
   "source": [
    "%matplotlib inline\n",
    "import psycopg2\n",
    "import pandas as pd\n",
    "import numpy as np\n",
    "import matplotlib.pyplot as plt\n",
    "from matplotlib import cm\n",
    "import security as s\n",
    "\n",
    "\n",
    "# cur = conn.cursor() "
   ]
  },
  {
   "cell_type": "code",
   "execution_count": 127,
   "metadata": {},
   "outputs": [
    {
     "data": {
      "text/html": [
       "<div>\n",
       "<style>\n",
       "    .dataframe thead tr:only-child th {\n",
       "        text-align: right;\n",
       "    }\n",
       "\n",
       "    .dataframe thead th {\n",
       "        text-align: left;\n",
       "    }\n",
       "\n",
       "    .dataframe tbody tr th {\n",
       "        vertical-align: top;\n",
       "    }\n",
       "</style>\n",
       "<table border=\"1\" class=\"dataframe\">\n",
       "  <thead>\n",
       "    <tr style=\"text-align: right;\">\n",
       "      <th></th>\n",
       "      <th>table_name</th>\n",
       "      <th>table_type</th>\n",
       "    </tr>\n",
       "  </thead>\n",
       "  <tbody>\n",
       "    <tr>\n",
       "      <th>0</th>\n",
       "      <td>album</td>\n",
       "      <td>BASE TABLE</td>\n",
       "    </tr>\n",
       "    <tr>\n",
       "      <th>1</th>\n",
       "      <td>artist</td>\n",
       "      <td>BASE TABLE</td>\n",
       "    </tr>\n",
       "    <tr>\n",
       "      <th>2</th>\n",
       "      <td>customer</td>\n",
       "      <td>BASE TABLE</td>\n",
       "    </tr>\n",
       "    <tr>\n",
       "      <th>3</th>\n",
       "      <td>employee</td>\n",
       "      <td>BASE TABLE</td>\n",
       "    </tr>\n",
       "    <tr>\n",
       "      <th>4</th>\n",
       "      <td>genre</td>\n",
       "      <td>BASE TABLE</td>\n",
       "    </tr>\n",
       "    <tr>\n",
       "      <th>5</th>\n",
       "      <td>invoice</td>\n",
       "      <td>BASE TABLE</td>\n",
       "    </tr>\n",
       "    <tr>\n",
       "      <th>6</th>\n",
       "      <td>invoice_line</td>\n",
       "      <td>BASE TABLE</td>\n",
       "    </tr>\n",
       "    <tr>\n",
       "      <th>7</th>\n",
       "      <td>media_type</td>\n",
       "      <td>BASE TABLE</td>\n",
       "    </tr>\n",
       "    <tr>\n",
       "      <th>8</th>\n",
       "      <td>playlist</td>\n",
       "      <td>BASE TABLE</td>\n",
       "    </tr>\n",
       "    <tr>\n",
       "      <th>9</th>\n",
       "      <td>playlist_track</td>\n",
       "      <td>BASE TABLE</td>\n",
       "    </tr>\n",
       "    <tr>\n",
       "      <th>10</th>\n",
       "      <td>track</td>\n",
       "      <td>BASE TABLE</td>\n",
       "    </tr>\n",
       "  </tbody>\n",
       "</table>\n",
       "</div>"
      ],
      "text/plain": [
       "        table_name  table_type\n",
       "0            album  BASE TABLE\n",
       "1           artist  BASE TABLE\n",
       "2         customer  BASE TABLE\n",
       "3         employee  BASE TABLE\n",
       "4            genre  BASE TABLE\n",
       "5          invoice  BASE TABLE\n",
       "6     invoice_line  BASE TABLE\n",
       "7       media_type  BASE TABLE\n",
       "8         playlist  BASE TABLE\n",
       "9   playlist_track  BASE TABLE\n",
       "10           track  BASE TABLE"
      ]
     },
     "execution_count": 127,
     "metadata": {},
     "output_type": "execute_result"
    }
   ],
   "source": [
    "def run_query(query):\n",
    "    with psycopg2.connect(dbname='chinook', user=s.credentials['user'], \n",
    "                          host=s.credentials['host'], password=s.credentials['password']) as conn:\n",
    "        \n",
    "        return pd.read_sql_query(query, conn)\n",
    "\n",
    "def run_command(command):\n",
    "    with psycopg2.connect(dbname='chinook', user=s.credentials['user'], \n",
    "                          host=s.credentials['host'], password=s.credentials['password']) as conn:\n",
    "        \n",
    "        conn.isolation_level = None # tells PostgreSQL to autocommit any changes\n",
    "        conn.execute(command)\n",
    "\n",
    "def show_tables():\n",
    "    query = \"select table_name, table_type from information_schema.tables \\\n",
    "                where table_type = 'BASE TABLE' AND table_schema = 'public';\"\n",
    "    return run_query(query)\n",
    "    \n",
    "def show_columns(tablename):\n",
    "    query =  \"\"\"select column_name from information_schema.columns where\n",
    "                table_name='{tn}'\"\"\".format(tn = tablename)\n",
    "    return run_query(query) \n",
    "\n",
    "tables = show_tables()\n",
    "tables"
   ]
  },
  {
   "cell_type": "markdown",
   "metadata": {},
   "source": [
    "### <font color=blue>03 Selecting Albums to Purchase</font>\n",
    "\n",
    "#### <font color=blue>Primary Question...</font>\n",
    "\n",
    "The Chinook record store has just signed a deal with a new record label, and you've been tasked with selecting the first three albums that will be added to the store, from a list of four. All four albums are by artists that don't have any tracks in the store right now - we have the artist names, and the genre of music they produce:\n",
    "\n",
    "| Artist Name | Genre |\n",
    "| :----- | :----- | \n",
    "|Regal| Hip-Hop | \n",
    "|Red Tone| Punk |\n",
    "|Meteor and the Girls | pop |\n",
    "|ASlim Jim Bites |Blues |\n",
    "\n",
    "#### <font color=blue>Do the following to answer the question posed above</font>\n",
    "\n",
    "-  <font color=black>Write a query that returns each genre, with the number of tracks sold in the united states in both absolute numbers and in percentages.  Here's a list strategic of steps taken to generate this query:</font>\n",
    "-  <font color=black>Create a plot to show this data.</font>\n",
    "-  <font color=black>Write a paragraph that interprets the data and makes a recommendation for the three artists whose albums we should purchase for the store, based on sales of tracks from their genres.  The table below</font>"
   ]
  },
  {
   "cell_type": "code",
   "execution_count": 128,
   "metadata": {},
   "outputs": [
    {
     "data": {
      "text/html": [
       "<div>\n",
       "<style>\n",
       "    .dataframe thead tr:only-child th {\n",
       "        text-align: right;\n",
       "    }\n",
       "\n",
       "    .dataframe thead th {\n",
       "        text-align: left;\n",
       "    }\n",
       "\n",
       "    .dataframe tbody tr th {\n",
       "        vertical-align: top;\n",
       "    }\n",
       "</style>\n",
       "<table border=\"1\" class=\"dataframe\">\n",
       "  <thead>\n",
       "    <tr style=\"text-align: right;\">\n",
       "      <th></th>\n",
       "      <th>tracks_sold</th>\n",
       "      <th>percentage_sold</th>\n",
       "    </tr>\n",
       "    <tr>\n",
       "      <th>genre</th>\n",
       "      <th></th>\n",
       "      <th></th>\n",
       "    </tr>\n",
       "  </thead>\n",
       "  <tbody>\n",
       "    <tr>\n",
       "      <th>Rock</th>\n",
       "      <td>561</td>\n",
       "      <td>0.533777</td>\n",
       "    </tr>\n",
       "    <tr>\n",
       "      <th>Alternative &amp; Punk</th>\n",
       "      <td>130</td>\n",
       "      <td>0.123692</td>\n",
       "    </tr>\n",
       "    <tr>\n",
       "      <th>Metal</th>\n",
       "      <td>124</td>\n",
       "      <td>0.117983</td>\n",
       "    </tr>\n",
       "    <tr>\n",
       "      <th>R&amp;B/Soul</th>\n",
       "      <td>53</td>\n",
       "      <td>0.050428</td>\n",
       "    </tr>\n",
       "    <tr>\n",
       "      <th>Blues</th>\n",
       "      <td>36</td>\n",
       "      <td>0.034253</td>\n",
       "    </tr>\n",
       "    <tr>\n",
       "      <th>Alternative</th>\n",
       "      <td>35</td>\n",
       "      <td>0.033302</td>\n",
       "    </tr>\n",
       "    <tr>\n",
       "      <th>Latin</th>\n",
       "      <td>22</td>\n",
       "      <td>0.020932</td>\n",
       "    </tr>\n",
       "    <tr>\n",
       "      <th>Pop</th>\n",
       "      <td>22</td>\n",
       "      <td>0.020932</td>\n",
       "    </tr>\n",
       "    <tr>\n",
       "      <th>Hip Hop/Rap</th>\n",
       "      <td>20</td>\n",
       "      <td>0.019029</td>\n",
       "    </tr>\n",
       "    <tr>\n",
       "      <th>Jazz</th>\n",
       "      <td>14</td>\n",
       "      <td>0.013321</td>\n",
       "    </tr>\n",
       "  </tbody>\n",
       "</table>\n",
       "</div>"
      ],
      "text/plain": [
       "                    tracks_sold  percentage_sold\n",
       "genre                                           \n",
       "Rock                        561         0.533777\n",
       "Alternative & Punk          130         0.123692\n",
       "Metal                       124         0.117983\n",
       "R&B/Soul                     53         0.050428\n",
       "Blues                        36         0.034253\n",
       "Alternative                  35         0.033302\n",
       "Latin                        22         0.020932\n",
       "Pop                          22         0.020932\n",
       "Hip Hop/Rap                  20         0.019029\n",
       "Jazz                         14         0.013321"
      ]
     },
     "execution_count": 128,
     "metadata": {},
     "output_type": "execute_result"
    }
   ],
   "source": [
    "query = '''\n",
    "WITH usa_tracks_sold AS\n",
    "   (\n",
    "    SELECT il.* FROM invoice_line il\n",
    "    INNER JOIN invoice i on il.invoice_id = i.invoice_id\n",
    "    INNER JOIN customer c on i.customer_id = c.customer_id\n",
    "    WHERE c.country = 'USA'\n",
    "   )\n",
    "\n",
    "SELECT\n",
    "    g.name genre,\n",
    "    count(uts.invoice_line_id) tracks_sold,\n",
    "    cast(count(uts.invoice_line_id) AS FLOAT) / (\n",
    "        SELECT COUNT(*) from usa_tracks_sold\n",
    "    ) percentage_sold\n",
    "FROM usa_tracks_sold uts\n",
    "INNER JOIN track t on t.track_id = uts.track_id\n",
    "INNER JOIN genre g on g.genre_id = t.genre_id\n",
    "GROUP BY 1\n",
    "ORDER BY 2 DESC\n",
    "LIMIT 10;\n",
    "'''\n",
    "albums_to_purchase = run_query(query)\n",
    "albums_to_purchase.set_index('genre', inplace=True)\n",
    "\n",
    "summed = albums_to_purchase.loc['Alternative & Punk','percentage_sold'] + albums_to_purchase.loc['Pop','percentage_sold'] + albums_to_purchase.loc['Blues','percentage_sold']\n",
    "\n",
    "albums_to_purchase\n"
   ]
  },
  {
   "cell_type": "code",
   "execution_count": 129,
   "metadata": {},
   "outputs": [
    {
     "name": "stdout",
     "output_type": "stream",
     "text": [
      "The summation of the percentage of the best three choices is 0.178877259753\n"
     ]
    },
    {
     "data": {
      "image/png": "[encoded data removed]",
      "text/plain": [
       "<matplotlib.figure.Figure at 0x7f3a424654e0>"
      ]
     },
     "metadata": {},
     "output_type": "display_data"
    },
    {
     "data": {
      "image/png": "[encoded data removed]",
      "text/plain": [
       "<matplotlib.figure.Figure at 0x7f3a422ed080>"
      ]
     },
     "metadata": {},
     "output_type": "display_data"
    }
   ],
   "source": [
    "ax = albums_to_purchase.plot(kind='barh', y='percentage_sold', title='Top Selling Music Genres in the US')\n",
    "\n",
    "ax.set_xlabel('% Sold in US Market')\n",
    "ax.set_ylabel('Music Genre')\n",
    "ax.legend_.remove()\n",
    "\n",
    "title='Top Selling Music Genres in the US\\nAfter removing \"Rock\"'\n",
    "ax = albums_to_purchase.iloc[1:].plot(kind='barh', y='percentage_sold', title=title)\n",
    "ax.set_xlabel('% Sold in US Market')\n",
    "ax.set_ylabel('Music Genre')\n",
    "ax.legend_.remove()\n",
    "\n",
    "print('The summation of the percentage of the best three choices is', summed)"
   ]
  },
  {
   "cell_type": "markdown",
   "metadata": {},
   "source": [
    "#### <font color=blue>Answer to Primary Question...</font>\n",
    "\n",
    "| Artist Name | Genre |\n",
    "| :----- | :----- | \n",
    "|Regal| Hip-Hop | \n",
    "|Red Tone| Punk |\n",
    "|Meteor and the Girls | pop |\n",
    "|ASlim Jim Bites |Blues |\n",
    "\n",
    "*For reference, the list of artists whose albums I have to choose from are shown above.*\n",
    "\n",
    "-  Since none of the 4 artists listed produce Rock music (which is the top selling brand in america) the plot above was reproduced without Rock music for rescaling purposes.\n",
    "-  That being said the following three should be purchased: Red Tone (Punk), Meteor and the Girls (pop), and Aslim JMim Bites (blues)\n",
    "-  It is worth noting that that none of the three of these are particularly good selections as their genres combined  comprise only ~ 18%.  The top selling genre (rock) makes up ~ 53% of the sales in the us."
   ]
  },
  {
   "cell_type": "markdown",
   "metadata": {},
   "source": [
    "# <font color=blue>04 Analyzing Employee Sales Performance</font>\n",
    "\n",
    "#### <font color=blue>Background</font>\n",
    "\n",
    "Each customer for the Chinook store gets assigned to a sales support agent within the company when they first make a purchase. You have been asked to analyze the purchases of customers belonging to each employee to see if any sales support agent is performing either better or worse than the others.\n",
    "\n",
    "You might like to consider whether any extra columns from the employee table explain any variance you see, or whether the variance might instead be indicative of employee performance.\n",
    "\n",
    "\n",
    "#### <font color=blue>Instructions</font>\n",
    "\n",
    "-  <font color=black>Write a query that finds the total dollar amount of sales assigned to each sales support agent within the company. Add any extra attributes for that employee that you find are relevant to the analysis.</font>\n",
    "-  <font color=black>Create a plot of the results of your query</font>\n",
    "-  <font color=black>Write a short statement describing your results, and providing a possible interpretation.</font>\n",
    "\n",
    "\n",
    "#### <font color=blue>My Thoughts</font>\n",
    "-  <font color=black>For each sales agent I will check the following columns for coorleations to performance (total sales):</font>\n",
    "  -  reports_to\n",
    "  -  birth_date\n",
    "  -  hire_date"
   ]
  },
  {
   "cell_type": "code",
   "execution_count": 130,
   "metadata": {},
   "outputs": [
    {
     "data": {
      "text/html": [
       "<div>\n",
       "<style>\n",
       "    .dataframe thead tr:only-child th {\n",
       "        text-align: right;\n",
       "    }\n",
       "\n",
       "    .dataframe thead th {\n",
       "        text-align: left;\n",
       "    }\n",
       "\n",
       "    .dataframe tbody tr th {\n",
       "        vertical-align: top;\n",
       "    }\n",
       "</style>\n",
       "<table border=\"1\" class=\"dataframe\">\n",
       "  <thead>\n",
       "    <tr style=\"text-align: right;\">\n",
       "      <th></th>\n",
       "      <th>superior</th>\n",
       "      <th>birth_date</th>\n",
       "      <th>hire_date</th>\n",
       "      <th>total_sales</th>\n",
       "    </tr>\n",
       "    <tr>\n",
       "      <th>employee</th>\n",
       "      <th></th>\n",
       "      <th></th>\n",
       "      <th></th>\n",
       "      <th></th>\n",
       "    </tr>\n",
       "  </thead>\n",
       "  <tbody>\n",
       "    <tr>\n",
       "      <th>Steve Johnson</th>\n",
       "      <td>Nancy Edwards</td>\n",
       "      <td>1965-03-03</td>\n",
       "      <td>2017-10-17</td>\n",
       "      <td>1393.92</td>\n",
       "    </tr>\n",
       "    <tr>\n",
       "      <th>Margaret Park</th>\n",
       "      <td>Nancy Edwards</td>\n",
       "      <td>1947-09-19</td>\n",
       "      <td>2017-05-03</td>\n",
       "      <td>1584.00</td>\n",
       "    </tr>\n",
       "    <tr>\n",
       "      <th>Jane Peacock</th>\n",
       "      <td>Nancy Edwards</td>\n",
       "      <td>1973-08-29</td>\n",
       "      <td>2017-04-01</td>\n",
       "      <td>1731.51</td>\n",
       "    </tr>\n",
       "  </tbody>\n",
       "</table>\n",
       "</div>"
      ],
      "text/plain": [
       "                    superior birth_date  hire_date  total_sales\n",
       "employee                                                       \n",
       "Steve Johnson  Nancy Edwards 1965-03-03 2017-10-17      1393.92\n",
       "Margaret Park  Nancy Edwards 1947-09-19 2017-05-03      1584.00\n",
       "Jane Peacock   Nancy Edwards 1973-08-29 2017-04-01      1731.51"
      ]
     },
     "execution_count": 130,
     "metadata": {},
     "output_type": "execute_result"
    }
   ],
   "source": [
    "query = '''\n",
    "WITH emp_per AS (\n",
    "    SELECT \n",
    "        e.first_name || ' ' || e.last_name Employee,\n",
    "        e.reports_to Superior,\n",
    "        e.birthdate birth_date,\n",
    "        e.hire_date hire_date,\n",
    "        SUM(i.total) Total_Sales\n",
    "    FROM employee e\n",
    "    INNER JOIN customer c ON c.support_rep_id = e.employee_id\n",
    "    INNER JOIN invoice i ON i.customer_id = c.customer_id\n",
    "    GROUP BY e.employee_id\n",
    "    ORDER BY Total_Sales DESC)\n",
    "    \n",
    "SELECT\n",
    "    ep.Employee,\n",
    "    e.first_name || ' ' || e.last_name Superior,\n",
    "    ep.birth_date,\n",
    "    ep.hire_date,\n",
    "    ep.Total_Sales\n",
    "FROM emp_per ep\n",
    "INNER JOIN employee e ON e.employee_id = ep.Superior;\n",
    "'''\n",
    "employee_performance = run_query(query)\n",
    "employee_performance.set_index('employee', inplace=True)\n",
    "employee_performance"
   ]
  },
  {
   "cell_type": "code",
   "execution_count": 161,
   "metadata": {},
   "outputs": [
    {
     "data": {
      "text/plain": [
       "<matplotlib.text.Annotation at 0x7f3a41203940>"
      ]
     },
     "execution_count": 161,
     "metadata": {},
     "output_type": "execute_result"
    },
    {
     "data": {
      "image/png": "[encoded data removed]",
      "text/plain": [
       "<matplotlib.figure.Figure at 0x7f3a41203128>"
      ]
     },
     "metadata": {},
     "output_type": "display_data"
    }
   ],
   "source": [
    "ax = employee_performance.plot(kind='barh', y='total_sales', title='Total Sales by Employee')\n",
    "\n",
    "ax.set_xlabel('Total Sales')\n",
    "ax.set_ylabel('Employee')\n",
    "ax.legend_.remove()\n",
    "\n",
    "#for i, label in enumerate(list(genre_sales_usa.index)):\n",
    "    #score = genre_sales_usa.loc[label, \"tracks_sold\"]\n",
    "    #label = (genre_sales_usa.loc[label, \"percentage_sold\"] * 100\n",
    "            #).astype(int).astype(str) + \"%\"\n",
    "    #plt.annotate(str(label), (score + 10, i - 0.15))\n",
    "    \n",
    "ax.annotate('Hire Date: Oct 2017', xy=(0.25, 0.15), xycoords='axes fraction')\n",
    "ax.annotate('Hire Date: May 2017', xy=(0.25, 0.49), xycoords='axes fraction')\n",
    "ax.annotate('Hire Date: Apr 2017', xy=(0.25, 0.83), xycoords='axes fraction')"
   ]
  },
  {
   "cell_type": "markdown",
   "metadata": {},
   "source": [
    "#### <font color=blue>Answer to Question...</font>\n",
    "\n",
    "It appers that the difference in sales relates to their hire date."
   ]
  },
  {
   "cell_type": "markdown",
   "metadata": {},
   "source": [
    "# <font color=blue>05 Analyzing Sales By Country</font>\n",
    "\n",
    "-  Write a query that collates data on purchases from different countries. For each country, include:\n",
    "  *  total number of customers\n",
    "  *  total value of sales\n",
    "  *  average value of sales per customer\n",
    "  *  average order value\n",
    "-  Where a country has only one customer, collect them into an \"Other\" group.\n",
    "-  The results should be sorted by the total sales from highest to lowest, with the \"Other\" group at the very bottom.\n"
   ]
  }
 ],
 "metadata": {
  "kernelspec": {
   "display_name": "Python 3",
   "language": "python",
   "name": "python3"
  },
  "language_info": {
   "codemirror_mode": {
    "name": "ipython",
    "version": 3
   },
   "file_extension": ".py",
   "mimetype": "text/x-python",
   "name": "python",
   "nbconvert_exporter": "python",
   "pygments_lexer": "ipython3",
   "version": "3.6.2"
  }
 },
 "nbformat": 4,
 "nbformat_minor": 2
}

{
 "cells": [
  {
   "cell_type": "code",
   "execution_count": 17,
   "metadata": {},
   "outputs": [
    {
     "name": "stdout",
     "output_type": "stream",
     "text": [
      "count       889.000000\n",
      "mean      74077.615298\n",
      "std       59360.742902\n",
      "min           0.000000\n",
      "25%       25000.000000\n",
      "50%       50000.000000\n",
      "75%      100000.000000\n",
      "max      200000.000000\n",
      "Name: int_income, dtype: float64\n"
     ]
    }
   ],
   "source": [
    "import pandas as pd\n",
    "data = pd.read_csv('thanksgiving-2015-poll-data.csv', encoding=\"Latin-1\")\n",
    "\n",
    "# Write a function to convert a single string to an appropriate integer income value.\n",
    "def convert_income_range_to_min_int_value(income_string):\n",
    "    \n",
    "    if pd.isnull(income_string) or 'Prefer' in income_string:\n",
    "        return None\n",
    "    \n",
    "    income_list = income_string.split(' ')\n",
    "    income_list[0] = income_list[0].replace('$', '')\n",
    "    income_list[0] = income_list[0].replace(',', '')\n",
    "    \n",
    "    return int(income_list[0])\n",
    "\n",
    "# Use the pandas.Series.apply() method to apply the function to each value in the How much total\n",
    "# combined money did all members of your HOUSEHOLD earn last year? column of data.\n",
    "data['int_income'] = data['How much total combined money did all members of your HOUSEHOLD earn last year?'].apply(convert_income_range_to_min_int_value)\n",
    "\n",
    "print(data['int_income'].describe())"
   ]
  },
  {
   "cell_type": "code",
   "execution_count": 18,
   "metadata": {},
   "outputs": [
    {
     "name": "stdout",
     "output_type": "stream",
     "text": [
      "\n",
      "Note, all the incomes have been rounded down to the lowest age value\n",
      "in a given group.  As such the statistics calculated are a generalization \n",
      "of the incomes in the population and not an exact calculation.\n"
     ]
    }
   ],
   "source": [
    "message = '''\\nNote, all the incomes have been rounded down to the lowest age value\n",
    "in a given group.  As such the statistics calculated are a generalization \n",
    "of the incomes in the population and not an exact calculation.'''\n",
    "\n",
    "print(message)"
   ]
  }
 ],
 "metadata": {
  "kernelspec": {
   "display_name": "Python 3",
   "language": "python",
   "name": "python3"
  },
  "language_info": {
   "codemirror_mode": {
    "name": "ipython",
    "version": 3
   },
   "file_extension": ".py",
   "mimetype": "text/x-python",
   "name": "python",
   "nbconvert_exporter": "python",
   "pygments_lexer": "ipython3",
   "version": "3.6.1"
  }
 },
 "nbformat": 4,
 "nbformat_minor": 2
}

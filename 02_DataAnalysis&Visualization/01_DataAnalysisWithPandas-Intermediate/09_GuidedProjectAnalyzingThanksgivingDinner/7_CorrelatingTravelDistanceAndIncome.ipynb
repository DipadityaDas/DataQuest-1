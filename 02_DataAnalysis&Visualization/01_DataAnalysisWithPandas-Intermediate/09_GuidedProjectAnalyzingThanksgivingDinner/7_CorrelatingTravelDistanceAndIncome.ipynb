{
 "cells": [
  {
   "cell_type": "code",
   "execution_count": 36,
   "metadata": {},
   "outputs": [
    {
     "name": "stdout",
     "output_type": "stream",
     "text": [
      "Thanksgiving travel information for people who earn < $15,000\n",
      "\n",
      "Thanksgiving is happening at my home--I won't travel at all                         46\n",
      "Thanksgiving is local--it will take place in the town I live in                     38\n",
      "Thanksgiving is out of town but not too far--it's a drive of a few hours or less    22\n",
      "Thanksgiving is out of town and far away--I have to drive several hours or fly       6\n",
      "Name: How far will you travel for Thanksgiving?, dtype: int64\n",
      "\n",
      "The most common response: \"Thanksgiving is happening at my home--I won't travel at all\"\n",
      "occured 41.100000% of the time.\n",
      "\n",
      "\n",
      "********************\n",
      "\n",
      "\n",
      "Thanksgiving travel information for people who earn > $15,000\n",
      "\n",
      "Thanksgiving is happening at my home--I won't travel at all                         301\n",
      "Thanksgiving is local--it will take place in the town I live in                     199\n",
      "Thanksgiving is out of town but not too far--it's a drive of a few hours or less    153\n",
      "Thanksgiving is out of town and far away--I have to drive several hours or fly       64\n",
      "Name: How far will you travel for Thanksgiving?, dtype: int64\n",
      "\n",
      "The most common response: \"Thanksgiving is happening at my home--I won't travel at all\"\n",
      "occured 42.000000% of the time.\n",
      "\n"
     ]
    }
   ],
   "source": [
    "import pandas as pd\n",
    "data = pd.read_csv('thanksgiving-2015-poll-data.csv', encoding=\"Latin-1\")\n",
    "\n",
    "# Write a function to convert a single string to an appropriate integer income value.\n",
    "def convert_income_range_to_min_int_value(income_string):\n",
    "    \n",
    "    if pd.isnull(income_string) or 'Prefer' in income_string:\n",
    "        return None\n",
    "    \n",
    "    income_list = income_string.split(' ')\n",
    "    income_list[0] = income_list[0].replace('$', '')\n",
    "    income_list[0] = income_list[0].replace(',', '')\n",
    "    \n",
    "    return int(income_list[0])\n",
    "\n",
    "# Use the pandas.Series.apply() method to apply the function to each value in the How much total\n",
    "# combined money did all members of your HOUSEHOLD earn last year? column of data.\n",
    "data['int_income'] = data['How much total combined money did all members of your HOUSEHOLD earn last year?'].apply(convert_income_range_to_min_int_value)\n",
    "\n",
    "# Create series of 'How far will you travel for Thanksgiving?'\n",
    "thanksgiving_distance_traveled = data['How far will you travel for Thanksgiving?']\n",
    "\n",
    "# Create series of 'How far will you travel for Thanksgiving?' filtered\n",
    "# for individuals earing above and below $15,000\n",
    "income_under_15000_travel_info = thanksgiving_distance_traveled[data['int_income'] < 15000]\n",
    "income_over_15000_travel_info = thanksgiving_distance_traveled[data['int_income'] > 15000]\n",
    "\n",
    "print('Thanksgiving travel information for people who earn < $15,000\\n')\n",
    "print(income_under_15000_travel_info.value_counts())\n",
    "total_count = income_under_15000_travel_info.describe()[0]\n",
    "top_response = income_under_15000_travel_info.describe()[2]\n",
    "top_response_count = income_under_15000_travel_info.describe()[3]\n",
    "percent_of_top_response = (top_response_count/total_count) * 100\n",
    "report = '''\n",
    "The most common response: \"%s\"\n",
    "occured %f%% of the time.\\n''' % (top_response, round(percent_of_top_response,1))\n",
    "print(report)\n",
    "\n",
    "print('\\n********************\\n')\n",
    "\n",
    "print('\\nThanksgiving travel information for people who earn > $15,000\\n')\n",
    "print(income_over_15000_travel_info.value_counts())\n",
    "total_count = income_over_15000_travel_info.describe()[0]\n",
    "top_response = income_over_15000_travel_info.describe()[2]\n",
    "top_response_count = income_over_15000_travel_info.describe()[3]\n",
    "percent_of_top_response = (top_response_count/total_count) * 100\n",
    "report = '''\n",
    "The most common response: \"%s\"\n",
    "occured %f%% of the time.\\n''' % (top_response, round(percent_of_top_response,1))\n",
    "print(report)"
   ]
  },
  {
   "cell_type": "code",
   "execution_count": 35,
   "metadata": {},
   "outputs": [
    {
     "name": "stdout",
     "output_type": "stream",
     "text": [
      "\n",
      "It seems that there is no corrleation between income and \n",
      "whether people travel for Thanksgiving.  Individuals who's \n",
      "income above or below $15,000 both do not travel ~ 40% of \n",
      "the time\n"
     ]
    }
   ],
   "source": [
    "message = '''\n",
    "It seems that there is no corrleation between income and \n",
    "whether people travel for Thanksgiving.  Individuals who's \n",
    "income above or below $15,000 both do not travel ~ 40% of \n",
    "the time.'''\n",
    "\n",
    "print(message)"
   ]
  }
 ],
 "metadata": {
  "kernelspec": {
   "display_name": "Python 3",
   "language": "python",
   "name": "python3"
  },
  "language_info": {
   "codemirror_mode": {
    "name": "ipython",
    "version": 3
   },
   "file_extension": ".py",
   "mimetype": "text/x-python",
   "name": "python",
   "nbconvert_exporter": "python",
   "pygments_lexer": "ipython3",
   "version": "3.6.1"
  }
 },
 "nbformat": 4,
 "nbformat_minor": 2
}

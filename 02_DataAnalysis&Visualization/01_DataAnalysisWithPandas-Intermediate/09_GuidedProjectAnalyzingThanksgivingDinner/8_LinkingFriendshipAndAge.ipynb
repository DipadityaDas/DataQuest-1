{
 "cells": [
  {
   "cell_type": "code",
   "execution_count": 26,
   "metadata": {},
   "outputs": [
    {
     "name": "stdout",
     "output_type": "stream",
     "text": [
      "***Friendsgiving mean age deomgraphics***\n",
      "\n",
      "Have you ever attended a \"Friendsgiving?\"                  No        Yes\n",
      "Have you ever tried to meet up with hometown fr...                      \n",
      "No                                                  42.283702  37.010526\n",
      "Yes                                                 41.475410  33.976744\n",
      "\n",
      "\n",
      "***Friendsgiving mean income deomgraphics***\n",
      "\n",
      "Have you ever attended a \"Friendsgiving?\"                     No           Yes\n",
      "Have you ever tried to meet up with hometown fr...                            \n",
      "No                                                  78914.549654  72894.736842\n",
      "Yes                                                 78750.000000  66019.736842\n"
     ]
    }
   ],
   "source": [
    "import pandas as pd\n",
    "import numpy as np\n",
    "data = pd.read_csv('thanksgiving-2015-poll-data.csv', encoding=\"Latin-1\")\n",
    "\n",
    "# Write a function to convert a single string to an appropriate\n",
    "# integer value. This will allow us to convert the values in the Age column to integers.\n",
    "\n",
    "def convert_age_to_min_value(age_string):\n",
    "    # check if string is null first\n",
    "    if pd.isnull(age_string):\n",
    "        return None\n",
    "    \n",
    "    # split string into a list and grab the first element\n",
    "    age_list = age_string.split(' ')\n",
    "    number_string = age_list[0]\n",
    "    \n",
    "    # Check for a '+' and remove if found\n",
    "    if '+' in number_string:\n",
    "        number_string = number_string[0:len(number_string)-1]\n",
    "    \n",
    "    # Convert to an integer and return value\n",
    "    return int(number_string)\n",
    "\n",
    "# Write a function to convert a single string to an appropriate integer income value.\n",
    "def convert_income_range_to_min_int_value(income_string):\n",
    "    \n",
    "    if pd.isnull(income_string) or 'Prefer' in income_string:\n",
    "        return None\n",
    "    \n",
    "    income_list = income_string.split(' ')\n",
    "    income_list[0] = income_list[0].replace('$', '')\n",
    "    income_list[0] = income_list[0].replace(',', '')\n",
    "    \n",
    "    return int(income_list[0])\n",
    "\n",
    "# Use the pandas.Series.apply() method to apply the function to each value in the How much total\n",
    "# combined money did all members of your HOUSEHOLD earn last year? column of data.\n",
    "data['int_income'] = data['How much total combined money did all members of your HOUSEHOLD earn last year?'].apply(convert_income_range_to_min_int_value)\n",
    "\n",
    "\n",
    "# Use the pandas.Series.apply() method to apply the function to each value in the Age column of data.\n",
    "# Assign the result to the int_age column of data.\n",
    "data['int_age'] = data['Age'].apply(convert_age_to_min_value)\n",
    "\n",
    "meet_up = 'Have you ever tried to meet up with hometown friends on Thanksgiving night?'\n",
    "Friendsgiving = 'Have you ever attended a \"Friendsgiving?\"'\n",
    "\n",
    "Friendsgiving_Meet_Up_Age_Mean = data.pivot_table(index=meet_up, columns=Friendsgiving, values='int_age',  aggfunc=np.mean)\n",
    "\n",
    "print('***Friendsgiving mean age deomgraphics***\\n')\n",
    "print(Friendsgiving_Meet_Up_Age_Mean)\n",
    "\n",
    "\n",
    "Friendsgiving_Meet_Up_Income_Mean = data.pivot_table(index=meet_up, columns=Friendsgiving, values='int_income',  aggfunc=np.mean)\n",
    "\n",
    "print('\\n\\n***Friendsgiving mean income deomgraphics***\\n')\n",
    "print(Friendsgiving_Meet_Up_Income_Mean)"
   ]
  }
 ],
 "metadata": {
  "kernelspec": {
   "display_name": "Python 3",
   "language": "python",
   "name": "python3"
  },
  "language_info": {
   "codemirror_mode": {
    "name": "ipython",
    "version": 3
   },
   "file_extension": ".py",
   "mimetype": "text/x-python",
   "name": "python",
   "nbconvert_exporter": "python",
   "pygments_lexer": "ipython3",
   "version": "3.6.1"
  }
 },
 "nbformat": 4,
 "nbformat_minor": 2
}

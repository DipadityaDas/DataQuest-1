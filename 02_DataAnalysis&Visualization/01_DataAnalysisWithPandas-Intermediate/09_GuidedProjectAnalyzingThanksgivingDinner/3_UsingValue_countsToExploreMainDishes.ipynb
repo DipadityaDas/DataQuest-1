{
 "cells": [
  {
   "cell_type": "code",
   "execution_count": 17,
   "metadata": {},
   "outputs": [
    {
     "name": "stdout",
     "output_type": "stream",
     "text": [
      "Turkey                    859\n",
      "Other (please specify)     35\n",
      "Ham/Pork                   29\n",
      "Tofurkey                   20\n",
      "Chicken                    12\n",
      "Roast beef                 11\n",
      "I don't know                5\n",
      "Turducken                   3\n",
      "Name: What is typically the main dish at your Thanksgiving dinner?, dtype: int64\n",
      "\n",
      "Turducken at 3, has the least amount of people serving this\n",
      "for thanksgiving as the main dish\n",
      "\n",
      "Here are the number of people that serve Tofurkey as the main dish: 20\n",
      "Of those people here's a list showing which ones do and do not serve gravy.\n",
      "4      Yes\n",
      "33     Yes\n",
      "69      No\n",
      "72      No\n",
      "77     Yes\n",
      "145    Yes\n",
      "175    Yes\n",
      "218     No\n",
      "243    Yes\n",
      "275     No\n",
      "393    Yes\n",
      "399    Yes\n",
      "571    Yes\n",
      "594    Yes\n",
      "628     No\n",
      "774     No\n",
      "820     No\n",
      "837    Yes\n",
      "860     No\n",
      "953    Yes\n",
      "Name: Do you typically have gravy?, dtype: object\n"
     ]
    }
   ],
   "source": [
    "import pandas as pd\n",
    "data = pd.read_csv('thanksgiving-2015-poll-data.csv', encoding=\"Latin-1\")\n",
    "\n",
    "# Use the pandas.Series.value_counts() method to display counts\n",
    "# of how many times each category occurs in the What is typically\n",
    "# the main dish at your Thanksgiving dinner? column.\n",
    "\n",
    "main_dish = data['What is typically the main dish at your Thanksgiving dinner?'].value_counts()\n",
    "print(main_dish)\n",
    "\n",
    "entree_names = main_dish.index.tolist()\n",
    "\n",
    "print('\\n%s at %s, has the least amount of people serving this\\nfor thanksgiving as the main dish' % (main_dish.index[len(main_dish)-1], main_dish[len(main_dish)-1]))\n",
    "\n",
    "# Display the Do you typically have gravy? column for any rows\n",
    "# from data where the What is typically the main dish at your\n",
    "# Thanksgiving dinner? column equals Tofurkey\n",
    "gravy_Tofurkey_row = data[data['What is typically the main dish at your Thanksgiving dinner?'] == 'Tofurkey']\n",
    "\n",
    "print('\\nHere are the number of people that serve Tofurkey as the main dish: %d' % gravy_Tofurkey_row.shape[0])\n",
    "print('Of those people, here\\'s a list showing which ones do and do not serve gravy.')\n",
    "print(gravy_Tofurkey_row['Do you typically have gravy?'])"
   ]
  }
 ],
 "metadata": {
  "kernelspec": {
   "display_name": "Python 3",
   "language": "python",
   "name": "python3"
  },
  "language_info": {
   "codemirror_mode": {
    "name": "ipython",
    "version": 3
   },
   "file_extension": ".py",
   "mimetype": "text/x-python",
   "name": "python",
   "nbconvert_exporter": "python",
   "pygments_lexer": "ipython3",
   "version": "3.6.1"
  }
 },
 "nbformat": 4,
 "nbformat_minor": 2
}

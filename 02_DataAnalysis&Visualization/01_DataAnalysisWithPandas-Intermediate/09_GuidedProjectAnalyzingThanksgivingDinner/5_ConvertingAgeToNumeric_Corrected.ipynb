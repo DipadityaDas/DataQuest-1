{
 "cells": [
  {
   "cell_type": "code",
   "execution_count": 2,
   "metadata": {},
   "outputs": [
    {
     "name": "stdout",
     "output_type": "stream",
     "text": [
      "45 - 59    286\n",
      "60+        264\n",
      "30 - 44    259\n",
      "18 - 29    216\n",
      "Name: Age, dtype: int64\n",
      "\n",
      "\n",
      "count    1025.000000\n",
      "mean       39.383415\n",
      "std        15.398493\n",
      "min        18.000000\n",
      "25%        30.000000\n",
      "50%        45.000000\n",
      "75%        60.000000\n",
      "max        60.000000\n",
      "Name: int_age, dtype: float64\n"
     ]
    }
   ],
   "source": [
    "import pandas as pd\n",
    "data = pd.read_csv('thanksgiving-2015-poll-data.csv', encoding=\"Latin-1\")\n",
    "\n",
    "# Write a function to convert a single string to an appropriate\n",
    "# integer value. This will allow us to convert the values in the Age column to integers.\n",
    "\n",
    "def convert_age_to_min_value(age_str):\n",
    "    if pd.isnull(age_str):\n",
    "        return None\n",
    "    age_str = age_str.split(\" \")[0]\n",
    "    age_str = age_str.replace(\"+\", \"\")\n",
    "    return int(age_str)\n",
    "\n",
    "# Use the pandas.Series.apply() method to apply the function to each value in the Age column of data.\n",
    "# Assign the result to the int_age column of data.\n",
    "data['int_age'] = data['Age'].apply(convert_age_to_min_value)\n",
    "print(data['Age'].value_counts())\n",
    "\n",
    "print('\\n')\n",
    "\n",
    "print(data['int_age'].describe())"
   ]
  },
  {
   "cell_type": "code",
   "execution_count": 17,
   "metadata": {},
   "outputs": [
    {
     "name": "stdout",
     "output_type": "stream",
     "text": [
      "\n",
      "Note, all the ages have been rounded down to the lowest age value\n",
      "in a given group.  As such the statistics calculated are a generalization \n",
      "of the ages in the population and not an exact calculation.\n"
     ]
    }
   ],
   "source": [
    "message = '''\\nNote, all the ages have been rounded down to the lowest age value\n",
    "in a given group.  As such the statistics calculated are a generalization \n",
    "of the ages in the population and not an exact calculation.'''\n",
    "\n",
    "print(message)"
   ]
  }
 ],
 "metadata": {
  "kernelspec": {
   "display_name": "Python 3",
   "language": "python",
   "name": "python3"
  },
  "language_info": {
   "codemirror_mode": {
    "name": "ipython",
    "version": 3
   },
   "file_extension": ".py",
   "mimetype": "text/x-python",
   "name": "python",
   "nbconvert_exporter": "python",
   "pygments_lexer": "ipython3",
   "version": "3.6.1"
  }
 },
 "nbformat": 4,
 "nbformat_minor": 2
}

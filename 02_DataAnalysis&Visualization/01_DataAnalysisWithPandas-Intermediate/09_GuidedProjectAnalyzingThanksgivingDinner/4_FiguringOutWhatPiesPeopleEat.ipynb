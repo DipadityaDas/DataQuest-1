{
 "cells": [
  {
   "cell_type": "code",
   "execution_count": 2,
   "metadata": {},
   "outputs": [
    {
     "name": "stdout",
     "output_type": "stream",
     "text": [
      "Ken's method for figuring this out\n",
      "876 people eat: apple, pumpkin, or pecan pie at thanksgiving.\n",
      "\n",
      "DATAQUEST method for figuring this out\n",
      "False    876\n",
      "True     182\n",
      "dtype: int64\n",
      "876 people ate apple, pumpkin, or pecan pie at thanksgiving.\n",
      "182 people had none\n"
     ]
    }
   ],
   "source": [
    "import pandas as pd\n",
    "data = pd.read_csv('thanksgiving-2015-poll-data.csv', encoding=\"Latin-1\")\n",
    "\n",
    "eats_apple_pie = data['Which type of pie is typically served at your Thanksgiving dinner? Please select all that apply. - Apple'] == 'Apple'\n",
    "eats_pumpkin_pie = data['Which type of pie is typically served at your Thanksgiving dinner? Please select all that apply. - Pumpkin'] == 'Pumpkin'\n",
    "eats_pecan_pie = data['Which type of pie is typically served at your Thanksgiving dinner? Please select all that apply. - Pecan'] == 'Pecan'\n",
    "eats_apple_pumpkin_or_pecan_pie = data[(eats_apple_pie) | eats_pumpkin_pie | (eats_pecan_pie)]\n",
    "count_eats_apple_pumpkin_or_pecan_pie = eats_apple_pumpkin_or_pecan_pie.shape[0]\n",
    "\n",
    "print('Ken\\'s method for figuring this out')\n",
    "print('%d people eat: apple, pumpkin, or pecan pie at thanksgiving.' % count_eats_apple_pumpkin_or_pecan_pie)\n",
    "\n",
    "print('\\nDATAQUEST method for figuring this out')\n",
    "# Every where null = False means that kind of pie was eaten\n",
    "apple_isnull = pd.isnull(data['Which type of pie is typically served at your Thanksgiving dinner? Please select all that apply. - Apple'])\n",
    "pumpkin_isnull = pd.isnull(data['Which type of pie is typically served at your Thanksgiving dinner? Please select all that apply. - Pumpkin'])\n",
    "pecan_isnull = pd.isnull(data['Which type of pie is typically served at your Thanksgiving dinner? Please select all that apply. - Pecan'])\n",
    "\n",
    "ate_pies = (apple_isnull) & (pumpkin_isnull) & (pecan_isnull)\n",
    "#ate_pies = apple_isnull & pumpkin_isnull & pecan_isnull\n",
    "count_ate_pies = ate_pies.value_counts()\n",
    "print(count_ate_pies)\n",
    "print('%d people ate apple, pumpkin, or pecan pie at thanksgiving.\\n%d people had none' % (count_ate_pies[0], count_ate_pies[1]))"
   ]
  }
 ],
 "metadata": {
  "kernelspec": {
   "display_name": "Python 3",
   "language": "python",
   "name": "python3"
  },
  "language_info": {
   "codemirror_mode": {
    "name": "ipython",
    "version": 3
   },
   "file_extension": ".py",
   "mimetype": "text/x-python",
   "name": "python",
   "nbconvert_exporter": "python",
   "pygments_lexer": "ipython3",
   "version": "3.6.1"
  }
 },
 "nbformat": 4,
 "nbformat_minor": 2
}

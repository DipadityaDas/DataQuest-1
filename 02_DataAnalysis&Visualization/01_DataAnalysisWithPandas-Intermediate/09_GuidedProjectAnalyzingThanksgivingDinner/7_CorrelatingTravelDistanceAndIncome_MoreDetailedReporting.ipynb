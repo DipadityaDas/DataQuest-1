{
 "cells": [
  {
   "cell_type": "code",
   "execution_count": 40,
   "metadata": {},
   "outputs": [
    {
     "name": "stdout",
     "output_type": "stream",
     "text": [
      "Thanksgiving travel information for people who earn < $15,000\n",
      "\n",
      "\t Thanksgiving is happening at my home--I won't travel at all\n",
      "\t\tCount: 46\n",
      "\t\tPercent: 41.0714285714\n",
      "\n",
      "\t Thanksgiving is local--it will take place in the town I live in\n",
      "\t\tCount: 38\n",
      "\t\tPercent: 33.9285714286\n",
      "\n",
      "\t Thanksgiving is out of town but not too far--it's a drive of a few hours or less\n",
      "\t\tCount: 22\n",
      "\t\tPercent: 19.6428571429\n",
      "\n",
      "\t Thanksgiving is out of town and far away--I have to drive several hours or fly\n",
      "\t\tCount: 6\n",
      "\t\tPercent: 5.35714285714\n",
      "\n",
      "\n",
      "\n",
      "***********************************************************\n",
      "\n",
      "\n",
      "Thanksgiving travel information for people who earn > $15,000\n",
      "\n",
      "\t Thanksgiving is happening at my home--I won't travel at all\n",
      "\t\tCount: 301\n",
      "\t\tPercent: 41.980474198\n",
      "\n",
      "\t Thanksgiving is local--it will take place in the town I live in\n",
      "\t\tCount: 199\n",
      "\t\tPercent: 27.7545327755\n",
      "\n",
      "\t Thanksgiving is out of town but not too far--it's a drive of a few hours or less\n",
      "\t\tCount: 153\n",
      "\t\tPercent: 21.3389121339\n",
      "\n",
      "\t Thanksgiving is out of town and far away--I have to drive several hours or fly\n",
      "\t\tCount: 64\n",
      "\t\tPercent: 8.92608089261\n",
      "\n"
     ]
    }
   ],
   "source": [
    "import pandas as pd\n",
    "data = pd.read_csv('thanksgiving-2015-poll-data.csv', encoding=\"Latin-1\")\n",
    "\n",
    "# Write a function to convert a single string to an appropriate integer income value.\n",
    "def convert_income_range_to_min_int_value(income_string):\n",
    "    \n",
    "    if pd.isnull(income_string) or 'Prefer' in income_string:\n",
    "        return None\n",
    "    \n",
    "    income_list = income_string.split(' ')\n",
    "    income_list[0] = income_list[0].replace('$', '')\n",
    "    income_list[0] = income_list[0].replace(',', '')\n",
    "    \n",
    "    return int(income_list[0])\n",
    "\n",
    "# Use the pandas.Series.apply() method to apply the function to each value in the How much total\n",
    "# combined money did all members of your HOUSEHOLD earn last year? column of data.\n",
    "data['int_income'] = data['How much total combined money did all members of your HOUSEHOLD earn last year?'].apply(convert_income_range_to_min_int_value)\n",
    "\n",
    "# Create series of 'How far will you travel for Thanksgiving?'\n",
    "thanksgiving_distance_traveled = data['How far will you travel for Thanksgiving?']\n",
    "\n",
    "# Create series of 'How far will you travel for Thanksgiving?' filtered\n",
    "# for individuals earing above and below $15,000\n",
    "income_under_15000_travel_info = thanksgiving_distance_traveled[data['int_income'] < 15000]\n",
    "income_over_15000_travel_info = thanksgiving_distance_traveled[data['int_income'] > 15000]\n",
    "\n",
    "print('Thanksgiving travel information for people who earn < $15,000\\n')\n",
    "\n",
    "income_under_15000_travel_info_values = income_under_15000_travel_info.value_counts()\n",
    "income_under_15000_travel_info_keys = income_under_15000_travel_info_values.keys()\n",
    "\n",
    "for index, item in enumerate(income_under_15000_travel_info_values):\n",
    "    print('\\t', income_under_15000_travel_info_keys[index])\n",
    "    print('\\t\\tCount:', item)\n",
    "    print('\\t\\tPercent:', (item/income_under_15000_travel_info_values.sum()*100))\n",
    "    print('')\n",
    "\n",
    "print('\\n\\n***********************************************************\\n\\n')\n",
    "\n",
    "print('Thanksgiving travel information for people who earn > $15,000\\n')\n",
    "\n",
    "income_over_15000_travel_info_values = income_over_15000_travel_info.value_counts()\n",
    "income_over_15000_travel_info_keys = income_over_15000_travel_info_values.keys()\n",
    "    \n",
    "for index, item in enumerate(income_over_15000_travel_info_values):\n",
    "    print('\\t', income_over_15000_travel_info_keys[index])\n",
    "    print('\\t\\tCount:', item)\n",
    "    print('\\t\\tPercent:', (item/income_over_15000_travel_info_values.sum()*100))\n",
    "    print('')"
   ]
  },
  {
   "cell_type": "code",
   "execution_count": 41,
   "metadata": {},
   "outputs": [
    {
     "name": "stdout",
     "output_type": "stream",
     "text": [
      "\n",
      "It seems that there is no corrleation between income and \n",
      "whether people travel for Thanksgiving.  Individuals who's \n",
      "income above or below $15,000 both have very similar travel\n",
      "habits across all of the metrics.\n"
     ]
    }
   ],
   "source": [
    "message = '''\n",
    "It seems that there is no corrleation between income and \n",
    "whether people travel for Thanksgiving.  Individuals who's \n",
    "income above or below $15,000 both have very similar travel\n",
    "habits across all of the metrics.'''\n",
    "\n",
    "print(message)"
   ]
  }
 ],
 "metadata": {
  "kernelspec": {
   "display_name": "Python 3",
   "language": "python",
   "name": "python3"
  },
  "language_info": {
   "codemirror_mode": {
    "name": "ipython",
    "version": 3
   },
   "file_extension": ".py",
   "mimetype": "text/x-python",
   "name": "python",
   "nbconvert_exporter": "python",
   "pygments_lexer": "ipython3",
   "version": "3.6.1"
  }
 },
 "nbformat": 4,
 "nbformat_minor": 2
}

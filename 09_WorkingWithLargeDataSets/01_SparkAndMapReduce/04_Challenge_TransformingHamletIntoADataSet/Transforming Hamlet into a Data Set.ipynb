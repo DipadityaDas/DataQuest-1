{
 "cells": [
  {
   "cell_type": "markdown",
   "metadata": {},
   "source": [
    "## Introduction\n",
    "In the previous two missions, we covered the basics of PySpark, the MapReduce paradigm, transformations and actions, and how to do basic data cleanup in PySpark. In this challenge, you'll use the techniques you've learned to transform the text of Hamlet into a format that's more useful for data analysis.\n",
    "\n",
    "#### Resources\n",
    "* [PySpark's documentation for the RDD data structure](http://spark.apache.org/docs/latest/api/python/pyspark.html#pyspark.RDD)\n",
    "* [Visual representation of methods](http://nbviewer.jupyter.org/github/jkthompson/pyspark-pictures/blob/master/pyspark-pictures.ipynb) (IPython Notebook format)\n",
    "* [Visual representation of methods](https://training.databricks.com/visualapi.pdf) (PDF format)"
   ]
  },
  {
   "cell_type": "markdown",
   "metadata": {},
   "source": [
    "## Extract Line Numbers\n",
    "The first value in each element (or line from the play) is a line number that identifies the line of the play the text is from. It appears in the following format:\n",
    "\n",
    "    'hamlet@0'\n",
    "    'hamlet@8',\n",
    "    'hamlet@9',\n",
    "    ...\n",
    "\n",
    "We don't need the __hamlet@__ at the beginning of these IDs for our data analysis. Let's extract just the integer part of the ID from each line, which is much more useful.\n",
    "\n",
    "#### Instructions\n",
    "Transform the RDD __split_hamlet__ into a new RDD __hamlet_with_ids__ that contains the clean version of the line ID for each element.\n",
    "* For example, we want to transform __hamlet@0__ to __0__, and leave the rest of the values in that element untouched.\n",
    "  * Recall that the __map()__ function will run on each element in the RDD, where each element is a list that we can access using regular Python mechanics."
   ]
  },
  {
   "cell_type": "code",
   "execution_count": 1,
   "metadata": {},
   "outputs": [
    {
     "data": {
      "text/plain": [
       "[u'hamlet@0\\t\\tHAMLET',\n",
       " u'hamlet@8',\n",
       " u'hamlet@9',\n",
       " u'hamlet@10\\t\\tDRAMATIS PERSONAE',\n",
       " u'hamlet@29',\n",
       " u'hamlet@30',\n",
       " u'hamlet@31\\tCLAUDIUS\\tking of Denmark. (KING CLAUDIUS:)',\n",
       " u'hamlet@74',\n",
       " u'hamlet@75\\tHAMLET\\tson to the late, and nephew to the present king.',\n",
       " u'hamlet@131']"
      ]
     },
     "execution_count": 1,
     "metadata": {},
     "output_type": "execute_result"
    }
   ],
   "source": [
    "# Find path to PySpark\n",
    "import findspark\n",
    "findspark.init()\n",
    "\n",
    "# Import PySpark & initalize SparkContext object\n",
    "import pyspark\n",
    "sc = pyspark.SparkContext()\n",
    "raw_hamlet=sc.textFile('hamlet.txt')\n",
    "raw_hamlet.take(10)"
   ]
  },
  {
   "cell_type": "code",
   "execution_count": 2,
   "metadata": {},
   "outputs": [
    {
     "data": {
      "text/plain": [
       "[[u'hamlet@0', u'', u'HAMLET'],\n",
       " [u'hamlet@8'],\n",
       " [u'hamlet@9'],\n",
       " [u'hamlet@10', u'', u'DRAMATIS PERSONAE'],\n",
       " [u'hamlet@29'],\n",
       " [u'hamlet@30'],\n",
       " [u'hamlet@31', u'CLAUDIUS', u'king of Denmark. (KING CLAUDIUS:)'],\n",
       " [u'hamlet@74'],\n",
       " [u'hamlet@75',\n",
       "  u'HAMLET',\n",
       "  u'son to the late, and nephew to the present king.'],\n",
       " [u'hamlet@131']]"
      ]
     },
     "execution_count": 2,
     "metadata": {},
     "output_type": "execute_result"
    }
   ],
   "source": [
    "# Split RDD\n",
    "split_hamlet = raw_hamlet.map(lambda line: line.split('\\t'))\n",
    "split_hamlet.take(10)"
   ]
  },
  {
   "cell_type": "code",
   "execution_count": 3,
   "metadata": {},
   "outputs": [
    {
     "data": {
      "text/plain": [
       "[[u'0', u'', u'HAMLET'],\n",
       " [u'8'],\n",
       " [u'9'],\n",
       " [u'10', u'', u'DRAMATIS PERSONAE'],\n",
       " [u'29'],\n",
       " [u'30'],\n",
       " [u'31', u'CLAUDIUS', u'king of Denmark. (KING CLAUDIUS:)'],\n",
       " [u'74'],\n",
       " [u'75', u'HAMLET', u'son to the late, and nephew to the present king.'],\n",
       " [u'131']]"
      ]
     },
     "execution_count": 3,
     "metadata": {},
     "output_type": "execute_result"
    }
   ],
   "source": [
    "# Remove hamlet@ from the row id's\n",
    "def format_id(line):\n",
    "    id = line[0].split('@')[1]\n",
    "    result = []\n",
    "    result.append(id)\n",
    "    if len(line) > 1:\n",
    "        for y in line[1:]:\n",
    "            result.append(y)\n",
    "    return result\n",
    "\n",
    "hamlet_with_ids = split_hamlet.map(lambda line: format_id(line))\n",
    "\n",
    "hamlet_with_ids.take(10)"
   ]
  },
  {
   "cell_type": "markdown",
   "metadata": {},
   "source": [
    "## Remove Blank Values\n",
    "Next, we want to get rid of elements that don't contain any actual words (and just have an ID as the first value). These typically represent blank lines between paragraphs or sections in the play. We also want to remove any blank values ('') within elements, which don't contain any useful information for our analysis.\n",
    "\n",
    "#### Instructions\n",
    "* Clean up the RDD and store the result as a new RDD __hamlet_text_only__."
   ]
  },
  {
   "cell_type": "markdown",
   "metadata": {},
   "source": [
    "#### Comments on my first attempt\n",
    "* The commented-out code and the utilized code is essetially the same, but it unnecessarily long and therefore not all that readable.\n",
    "* So I've commented it out and condenced the code"
   ]
  },
  {
   "cell_type": "code",
   "execution_count": 4,
   "metadata": {},
   "outputs": [],
   "source": [
    "# def remove_empty_lines(line):\n",
    "#     if len(line) > 1:\n",
    "#         return True\n",
    "#     else:\n",
    "#         return False\n",
    "        \n",
    "# hamlet_no_empty_lines = hamlet_with_ids.filter(lambda line: remove_empty_lines(line))\n",
    "# hamlet_no_empty_lines.take(10)"
   ]
  },
  {
   "cell_type": "code",
   "execution_count": 5,
   "metadata": {},
   "outputs": [],
   "source": [
    "# def remove_empty_elements(line):\n",
    "#     cleaned_line = [i for i in line if i != '']\n",
    "#     return cleaned_line\n",
    "        \n",
    "# hamlet_text_only = hamlet_no_empty_lines.map(lambda line: remove_empty_elements(line))\n",
    "# hamlet_text_only.take(10)"
   ]
  },
  {
   "cell_type": "code",
   "execution_count": 6,
   "metadata": {},
   "outputs": [
    {
     "data": {
      "text/plain": [
       "[[u'0', u'', u'HAMLET'],\n",
       " [u'10', u'', u'DRAMATIS PERSONAE'],\n",
       " [u'31', u'CLAUDIUS', u'king of Denmark. (KING CLAUDIUS:)'],\n",
       " [u'75', u'HAMLET', u'son to the late, and nephew to the present king.'],\n",
       " [u'132', u'POLONIUS', u'lord chamberlain. (LORD POLONIUS:)'],\n",
       " [u'177', u'HORATIO', u'friend to Hamlet.'],\n",
       " [u'204', u'LAERTES', u'son to Polonius.'],\n",
       " [u'230', u'LUCIANUS', u'nephew to the king.'],\n",
       " [u'261', u'VOLTIMAND', u'|'],\n",
       " [u'273', u'', u'|']]"
      ]
     },
     "execution_count": 6,
     "metadata": {},
     "output_type": "execute_result"
    }
   ],
   "source": [
    "hamlet_no_empty_lines = hamlet_with_ids.filter(lambda line: len(line)>1)\n",
    "hamlet_no_empty_lines.take(10)"
   ]
  },
  {
   "cell_type": "code",
   "execution_count": 7,
   "metadata": {},
   "outputs": [
    {
     "data": {
      "text/plain": [
       "[[u'0', u'HAMLET'],\n",
       " [u'10', u'DRAMATIS PERSONAE'],\n",
       " [u'31', u'CLAUDIUS', u'king of Denmark. (KING CLAUDIUS:)'],\n",
       " [u'75', u'HAMLET', u'son to the late, and nephew to the present king.'],\n",
       " [u'132', u'POLONIUS', u'lord chamberlain. (LORD POLONIUS:)'],\n",
       " [u'177', u'HORATIO', u'friend to Hamlet.'],\n",
       " [u'204', u'LAERTES', u'son to Polonius.'],\n",
       " [u'230', u'LUCIANUS', u'nephew to the king.'],\n",
       " [u'261', u'VOLTIMAND', u'|'],\n",
       " [u'273', u'|']]"
      ]
     },
     "execution_count": 7,
     "metadata": {},
     "output_type": "execute_result"
    }
   ],
   "source": [
    "hamlet_text_only = hamlet_no_empty_lines.map(lambda line: [l for l in line if l != ''])\n",
    "hamlet_text_only.take(10)"
   ]
  },
  {
   "cell_type": "markdown",
   "metadata": {},
   "source": [
    "## Removing Pipe Characters\n",
    "If you've been using __take()__ to preview the RDD after each task, you may have noticed there are some pipe characters (|) in odd places that add no value for us. The pipe character may appear as a standalone value in an element, or as part of an otherwise useful string value.\n",
    "\n",
    "#### Instructions\n",
    "* Remove any list items that only contain the pipe character (|), and replace any pipe characters that appear within strings with an empty character.\n",
    "  * Assign the resulting RDD to __clean_hamlet__."
   ]
  },
  {
   "cell_type": "code",
   "execution_count": 8,
   "metadata": {},
   "outputs": [
    {
     "data": {
      "text/plain": [
       "[[u'0', u'HAMLET'],\n",
       " [u'10', u'DRAMATIS PERSONAE'],\n",
       " [u'31', u'CLAUDIUS', u'king of Denmark. (KING CLAUDIUS:)'],\n",
       " [u'75', u'HAMLET', u'son to the late, and nephew to the present king.'],\n",
       " [u'132', u'POLONIUS', u'lord chamberlain. (LORD POLONIUS:)'],\n",
       " [u'177', u'HORATIO', u'friend to Hamlet.'],\n",
       " [u'204', u'LAERTES', u'son to Polonius.'],\n",
       " [u'230', u'LUCIANUS', u'nephew to the king.'],\n",
       " [u'261', u'VOLTIMAND'],\n",
       " [u'273']]"
      ]
     },
     "execution_count": 8,
     "metadata": {},
     "output_type": "execute_result"
    }
   ],
   "source": [
    "no_pipe_elements = hamlet_text_only.map(lambda line: [l for l in line if l != '|'])\n",
    "clean_hamlet = no_pipe_elements.map(lambda line: [l.replace('|',\"\") for l in line])\n",
    "clean_hamlet.take(10)"
   ]
  }
 ],
 "metadata": {
  "kernelspec": {
   "display_name": "Python 2",
   "language": "python",
   "name": "python2"
  },
  "language_info": {
   "codemirror_mode": {
    "name": "ipython",
    "version": 2
   },
   "file_extension": ".py",
   "mimetype": "text/x-python",
   "name": "python",
   "nbconvert_exporter": "python",
   "pygments_lexer": "ipython2",
   "version": "2.7.14"
  }
 },
 "nbformat": 4,
 "nbformat_minor": 2
}

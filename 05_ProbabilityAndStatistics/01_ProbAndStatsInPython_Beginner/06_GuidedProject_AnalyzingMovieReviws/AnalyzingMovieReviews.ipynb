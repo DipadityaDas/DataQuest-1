{
 "cells": [
  {
   "cell_type": "markdown",
   "metadata": {},
   "source": [
    "## <font color=blue>01 Movie Reviews</font>\n",
    "*  Read __fandango_score_comparison.csv__ into a Dataframe named __movies__.\n",
    "*  Display the __movies__ DataFrame by just typing the variable name and running the code cell.\n",
    "*  If you're unfamiliar with RottenTomatoes, Metacritic, IMDB, or Fandango, visit the websites to get a better handle on their review methodology."
   ]
  },
  {
   "cell_type": "code",
   "execution_count": 58,
   "metadata": {},
   "outputs": [],
   "source": [
    "%matplotlib inline\n",
    "import matplotlib.pyplot as plt\n",
    "import numpy as np\n",
    "import pandas as pd\n",
    "from scipy.stats import pearsonr\n",
    "from scipy.stats import linregress"
   ]
  },
  {
   "cell_type": "code",
   "execution_count": 59,
   "metadata": {},
   "outputs": [
    {
     "name": "stdout",
     "output_type": "stream",
     "text": [
      "fandango_score_comparison columns\n",
      "\t- FILM\n",
      "\t- RottenTomatoes\n",
      "\t- RottenTomatoes_User\n",
      "\t- Metacritic\n",
      "\t- Metacritic_User\n",
      "\t- IMDB\n",
      "\t- Fandango_Stars\n",
      "\t- Fandango_Ratingvalue\n",
      "\t- RT_norm\n",
      "\t- RT_user_norm\n",
      "\t- Metacritic_norm\n",
      "\t- Metacritic_user_nom\n",
      "\t- IMDB_norm\n",
      "\t- RT_norm_round\n",
      "\t- RT_user_norm_round\n",
      "\t- Metacritic_norm_round\n",
      "\t- Metacritic_user_norm_round\n",
      "\t- IMDB_norm_round\n",
      "\t- Metacritic_user_vote_count\n",
      "\t- IMDB_user_vote_count\n",
      "\t- Fandango_votes\n",
      "\t- Fandango_Difference\n"
     ]
    }
   ],
   "source": [
    "movies = pd.read_csv('fandango_score_comparison.csv')\n",
    "print('fandango_score_comparison columns')\n",
    "for c in movies.columns:\n",
    "    print('\\t-', c)"
   ]
  },
  {
   "cell_type": "markdown",
   "metadata": {},
   "source": [
    "## <font color=blue>02 Histograms</font>\n",
    "*  Enable plotting in Jupyter notebook with __import matplotlib.pyplot as plt__ and run the following magic __%matplotlib inline__.\n",
    "*  Create a histogram of the __Metacritic_norm_round__ column.\n",
    "*  Create a histogram of the __Fandango_Stars__ column.\n",
    "*  Look critically at both histograms, and write up any differences you see in a markdown cell."
   ]
  },
  {
   "cell_type": "code",
   "execution_count": 60,
   "metadata": {},
   "outputs": [
    {
     "data": {
      "text/plain": [
       "<matplotlib.text.Text at 0x7f6051a6b128>"
      ]
     },
     "execution_count": 60,
     "metadata": {},
     "output_type": "execute_result"
    },
    {
     "data": {
      "image/png": "[encoded data removed]",
      "text/plain": [
       "<matplotlib.figure.Figure at 0x7f6051b422e8>"
      ]
     },
     "metadata": {},
     "output_type": "display_data"
    }
   ],
   "source": [
    "fig = plt.figure(figsize=(10,5))\n",
    "ax1 = fig.add_subplot(1,2,1)\n",
    "ax2 = fig.add_subplot(1,2,2)\n",
    "\n",
    "ax1.hist(movies['Metacritic_norm_round'])\n",
    "ax2.hist(movies['Fandango_Stars'])\n",
    "\n",
    "ax1.set_title('Metacritic_norm_round')\n",
    "ax2.set_title('Fandango_Stars')"
   ]
  },
  {
   "cell_type": "markdown",
   "metadata": {},
   "source": [
    "#### Data Description\n",
    "*  The __Metacritic_norm_round__ data set appears to have a normal-ish looking distributation with the majority of movies getting a score betwween 3-4.\n",
    "*  The __Fandango_Stars__ data set seems a bit odd as there are very few movies with a rating under 4, and no movies what so ever with a rating under 3.  The rating seems a bit skewed to higher values."
   ]
  },
  {
   "cell_type": "markdown",
   "metadata": {},
   "source": [
    "## <font color=blue>03 Mean, Median, and Standard Deviation</font>\n",
    "*  Calculate the mean of both __Fandango_Stars__ and __Metacritic_norm_round__.\n",
    "*  Calculate the median of both __Fandango_Stars__ and __Metacritic_norm_round__.\n",
    "*  Calculate the standard deviation of both __Fandango_Stars__ and __Metacritic_norm_round__. You can use the *numpy.std()* method to find this.\n",
    "*  Print out all the values and look over them.\n",
    "*  Look at the review methodologies for [Metacritic](http://www.metacritic.com/) and [Fandango](https://www.fandango.com/). You can find the methodologies on their websites, or by using [Google](https://www.google.com/). Do you see any major differences? Write them up in a markdown cell.\n",
    "*  Write up the differences in numbers in a markdown cell, including the following:\n",
    "  *  Why would the median for __Metacritic_norm_round__ be lower than the mean, but the median for __Fandango_Stars__ is higher than the mean? Recall that the mean is usually larger than the median when there are a few large values in the data, and lower when there are a few small values.\n",
    "  *  Why would the standard deviation for __Fandango_Stars__ be much lower than the standard deviation for __Metacritic_norm_round__?\n",
    "  *  Why would the mean for __Fandango_Stars__ be much higher than the mean for __Metacritic_norm_round__."
   ]
  },
  {
   "cell_type": "code",
   "execution_count": 61,
   "metadata": {},
   "outputs": [
    {
     "name": "stdout",
     "output_type": "stream",
     "text": [
      "Metacritic_norm_round Descriptive Stats:\n",
      "\t-mean: 2.9726027397260273\n",
      "\t-median: 3.0\n",
      "\t-Standard Deviation: 0.9909605613743364\n",
      "\n",
      "Fandango_Stars Descriptive Stats:\n",
      "\t-mean: 4.089041095890411\n",
      "\t-median: 4.0\n",
      "\t-Standard Deviation: 0.5403859779787333\n"
     ]
    }
   ],
   "source": [
    "mean_Metacritic_norm = movies['Metacritic_norm_round'].mean()\n",
    "median_Metacritic_norm = movies['Metacritic_norm_round'].median()\n",
    "std_dev_Metacritic_norm = movies['Metacritic_norm_round'].std()\n",
    "print('Metacritic_norm_round Descriptive Stats:\\n\\t-mean: {mn}\\n\\t-median: {md}\\n\\t-Standard Deviation: {sd}'.format(mn=mean_Metacritic_norm, md=median_Metacritic_norm, sd=std_dev_Metacritic_norm))\n",
    "\n",
    "mean_Fandango_Stars = movies['Fandango_Stars'].mean()\n",
    "median_Fandango_Stars = movies['Fandango_Stars'].median()\n",
    "std_dev_Fandango_Stars = movies['Fandango_Stars'].std()\n",
    "print('\\nFandango_Stars Descriptive Stats:\\n\\t-mean: {mn}\\n\\t-median: {md}\\n\\t-Standard Deviation: {sd}'.format(mn=mean_Fandango_Stars, md=median_Fandango_Stars, sd=std_dev_Fandango_Stars))"
   ]
  },
  {
   "cell_type": "markdown",
   "metadata": {},
   "source": [
    "#### Metacritic Scores Explained\n",
    "*  Metascore is a weighted average in that they assign more importance, or weight, to some critics and publications than others, based on their quality and overall stature. In addition, for music and movies, we also normalize the resulting scores (akin to \"grading on a curve\" in college), which prevents scores from clumping together.\n",
    "*  Metascore does not include user votes in the score\n",
    "*  Metascore takes the credability of critics evaluations into consiteration.\n",
    "*  The median is slighly higher than the mean.  This indicates that there are a few low end outliers that are pulling the mean down, which will less significatly impact the median.\n",
    "*  The realistic distributation of scores ranging from 1-5 is going to create a Standard Deviation which is logical.\n",
    "\n",
    "\n",
    "#### Fandango Scores Explained\n",
    "*  Fandango has a practice of rounding scores up to the nearest 0.5.  Meaning if a move had a score of 4.1 it would be rounded up to 4.5. This is quite obviously going to skew the score artifically to higher numbers.\n",
    "*  Fandango has a financial encentive to inflate movie ratings.\n",
    "  1.  Fandango is owned by NBCUniversal.  \n",
    "  1.  You can purchase tickets directly from Fandango.\n",
    "  1.  It is obviously in their best interest to skew ratings higher to encourage people to buy movie tickest from them and to see movies made by NBCUniversal.\n",
    "*  The median is slighly lower than the mean.  This indicates that there are a few high end outliers that are pulling the mean up, which will less significatly impact the median.  This is probably related to their rounding practices.\n",
    "*  Since the scrores are artifically inflated to encourage people to see movies, there are no movies with a rating under 3; scores range from 3-5.  This is going to yield a tigher Standard Deviation as compared to the Metacritic scores."
   ]
  },
  {
   "cell_type": "markdown",
   "metadata": {},
   "source": [
    "## <font color=blue>04 Scatter Plots</font>\n",
    "*  Make a scatterplot that compares the __Fandango_Stars__ column to the __Metacritic_norm_round__ column.\n",
    "*  Several movies appear to have low ratings in Metacritic and high ratings in Fandango, or vice versa. We can explore this further by finding the differences between the columns.\n",
    "  *  Subtract the __Fandango_Stars__ column from the __Metacritic_norm_round__ column, and assign to a new column, __fm_diff__, in __movies__.\n",
    "  *  Assign the absolute value of __fm_diff__ to __fm_diff__. This will ensure that we don't only look at cases where __Metacritic_norm_round__ is greater than __Fandango_Stars__.\n",
    "    *  You can calculate absolute values with the [absolute](https://docs.scipy.org/doc/numpy-1.10.0/reference/generated/numpy.absolute.html) function in NumPy.\n",
    "  *  Sort movies based on the __fm_diff__ column, in descending order.\n",
    "  *  Print out the top __5__ movies with the biggest differences between __Fandango_Stars__ and __Metacritic_norm_round__."
   ]
  },
  {
   "cell_type": "code",
   "execution_count": 62,
   "metadata": {},
   "outputs": [
    {
     "data": {
      "text/plain": [
       "<matplotlib.text.Text at 0x7f60519c1be0>"
      ]
     },
     "execution_count": 62,
     "metadata": {},
     "output_type": "execute_result"
    },
    {
     "data": {
      "image/png": "[encoded data removed]",
      "text/plain": [
       "<matplotlib.figure.Figure at 0x7f6051bb10f0>"
      ]
     },
     "metadata": {},
     "output_type": "display_data"
    }
   ],
   "source": [
    "fig, ax = plt.subplots()\n",
    "ax.scatter(movies['Metacritic_norm_round'], movies['Fandango_Stars'])\n",
    "ax.set_ylabel('Fandango Scores')\n",
    "ax.set_xlabel('Metacritic Scores')\n",
    "ax.set_title('A Comparision Between\\nMetacritic & Fandango Movie Ratings')"
   ]
  },
  {
   "cell_type": "code",
   "execution_count": 63,
   "metadata": {},
   "outputs": [
    {
     "data": {
      "text/html": [
       "<div>\n",
       "<style>\n",
       "    .dataframe thead tr:only-child th {\n",
       "        text-align: right;\n",
       "    }\n",
       "\n",
       "    .dataframe thead th {\n",
       "        text-align: left;\n",
       "    }\n",
       "\n",
       "    .dataframe tbody tr th {\n",
       "        vertical-align: top;\n",
       "    }\n",
       "</style>\n",
       "<table border=\"1\" class=\"dataframe\">\n",
       "  <thead>\n",
       "    <tr style=\"text-align: right;\">\n",
       "      <th></th>\n",
       "      <th>FILM</th>\n",
       "      <th>Fandango_Stars</th>\n",
       "      <th>Metacritic_norm_round</th>\n",
       "      <th>fm_diff</th>\n",
       "    </tr>\n",
       "  </thead>\n",
       "  <tbody>\n",
       "    <tr>\n",
       "      <th>3</th>\n",
       "      <td>Do You Believe? (2015)</td>\n",
       "      <td>5.0</td>\n",
       "      <td>1.0</td>\n",
       "      <td>4.0</td>\n",
       "    </tr>\n",
       "    <tr>\n",
       "      <th>85</th>\n",
       "      <td>Little Boy (2015)</td>\n",
       "      <td>4.5</td>\n",
       "      <td>1.5</td>\n",
       "      <td>3.0</td>\n",
       "    </tr>\n",
       "    <tr>\n",
       "      <th>47</th>\n",
       "      <td>Annie (2014)</td>\n",
       "      <td>4.5</td>\n",
       "      <td>1.5</td>\n",
       "      <td>3.0</td>\n",
       "    </tr>\n",
       "    <tr>\n",
       "      <th>19</th>\n",
       "      <td>Pixels (2015)</td>\n",
       "      <td>4.5</td>\n",
       "      <td>1.5</td>\n",
       "      <td>3.0</td>\n",
       "    </tr>\n",
       "    <tr>\n",
       "      <th>134</th>\n",
       "      <td>The Longest Ride (2015)</td>\n",
       "      <td>4.5</td>\n",
       "      <td>1.5</td>\n",
       "      <td>3.0</td>\n",
       "    </tr>\n",
       "  </tbody>\n",
       "</table>\n",
       "</div>"
      ],
      "text/plain": [
       "                        FILM  Fandango_Stars  Metacritic_norm_round  fm_diff\n",
       "3     Do You Believe? (2015)             5.0                    1.0      4.0\n",
       "85         Little Boy (2015)             4.5                    1.5      3.0\n",
       "47              Annie (2014)             4.5                    1.5      3.0\n",
       "19             Pixels (2015)             4.5                    1.5      3.0\n",
       "134  The Longest Ride (2015)             4.5                    1.5      3.0"
      ]
     },
     "execution_count": 63,
     "metadata": {},
     "output_type": "execute_result"
    }
   ],
   "source": [
    "movies['fm_diff'] = np.absolute(movies['Fandango_Stars'] - movies['Metacritic_norm_round'])\n",
    "movies.sort_values(by=['fm_diff'], inplace=True, ascending=False)\n",
    "movies[['FILM','Fandango_Stars', 'Metacritic_norm_round', 'fm_diff']].head(5)"
   ]
  },
  {
   "cell_type": "markdown",
   "metadata": {},
   "source": [
    "## <font color=blue>05 Correlations</font>\n",
    "*  Calculate the r-value measuring the correlation between __Fandango_Stars__ and __Metacritic_norm_round__ using the [scipy.stats.pearsonr](https://docs.scipy.org/doc/scipy-0.16.0/reference/generated/scipy.stats.pearsonr.html) function.\n",
    "*  The correlation is actually fairly low. Write up a markdown cell that discusses what this might mean.\n",
    "*  Use the [scipy.stats.linregress](https://docs.scipy.org/doc/scipy/reference/generated/scipy.stats.linregress.html) function create a linear regression with __Metacritic_norm_round__ as the x-values and __Fandango_Stars__ as the y-values.\n",
    "*  Predict what a movie that got a __3.0__ in Metacritic would get on Fandango using the formula __pred_3 = 3 * slope + intercept__."
   ]
  },
  {
   "cell_type": "code",
   "execution_count": 64,
   "metadata": {},
   "outputs": [
    {
     "name": "stdout",
     "output_type": "stream",
     "text": [
      "r-value: 0.178449190739\n",
      "The predicted Fandango score assuming a Metacritic score of 3 is\n",
      "4.091707152821203\n"
     ]
    }
   ],
   "source": [
    "def predict_Fandango(m, b, x_value_MetacriticScore):\n",
    "    return (m * x_value_MetacriticScore) + b\n",
    "\n",
    "r_value, p_value = pearsonr(movies['Metacritic_norm_round'], movies['Fandango_Stars'])\n",
    "print('r-value:', r_value)\n",
    "\n",
    "slope, intercept, r_value, p_value, stderr_slope = linregress(movies['Metacritic_norm_round'], movies['Fandango_Stars'])\n",
    "predicted_Fandango_Score = predict_Fandango(slope, intercept, x_value_MetacriticScore = 3)\n",
    "print('The predicted Fandango score assuming a Metacritic score of 3 is\\n{fs}'.format(fs=predicted_Fandango_Score))"
   ]
  },
  {
   "cell_type": "markdown",
   "metadata": {},
   "source": [
    "#### Data Description...\n",
    "*  The r-value of ~0.18 indicates a poor corrleation between the score of __Fandango__ and __Metacritic__.  Therefore using a regression generated from this data set would yield a fairly inaccurate means of prediction.\n",
    "*  Furthermore, the poor coorleation means that the Fandango scores aren't simply inflated, but they are fundamentally different.  This is likely related to the lack in transparency Fandango provides in the calculation their scores.  It would be interesting to compare Fandango scores of movies made by NBCUniversal and Fandango scores of movies __NOT__ made by NBCUniversal.\n",
    "*  However, since the r-value is positive, this means that they do both trend up together and not trend with an inverse relatioship."
   ]
  },
  {
   "cell_type": "markdown",
   "metadata": {},
   "source": [
    "## <font color=blue>06 Finding Residuals</font>\n",
    "*  Predict what a movie that got a __1.0__ in Metacritic would get on Fandango using the line from the last screen.\n",
    "*  Predict what a movie that got a __5.0__ in Metacritic would get on Fandango using the line from the last screen.\n",
    "*  Make a scatter plot using the [scatter](https://matplotlib.org/api/pyplot_api.html#matplotlib.pyplot.scatter) function in __matplotlib.pyplot__.\n",
    "*  On top of the scatter plot, use the [plot](https://matplotlib.org/api/pyplot_api.html#matplotlib.pyplot.plot) function in __matplotlib.pyplot__ to plot a line using the predicted values for __1.0__ and __5.0__.\n",
    "  *  Setup the __x__ values as the list __[1.0, 5.0]__.\n",
    "  *  The __y__ values should be a list with the corresponding predictions.\n",
    "  *  Pass in both __x__ and __y__ to [plot](https://matplotlib.org/api/pyplot_api.html#matplotlib.pyplot.plot) to create a line.\n",
    "*  Set the x-limits of the plot to __1__ and __5__ using the [pyplot.xlim()](https://matplotlib.org/api/pyplot_api.html#matplotlib.pyplot.xlim) method.\n",
    "*  Show the plot."
   ]
  },
  {
   "cell_type": "code",
   "execution_count": 65,
   "metadata": {},
   "outputs": [
    {
     "name": "stdout",
     "output_type": "stream",
     "text": [
      "The predicted Fandango score assuming a Metacritic score of 1 is\n",
      "3.8970849968733465\n",
      "The predicted Fandango score assuming a Metacritic score of 5 is\n",
      "4.28632930876906\n"
     ]
    }
   ],
   "source": [
    "predict_one = predicted_Fandango_Score = predict_Fandango(slope, intercept, x_value_MetacriticScore = 1)\n",
    "predict_five = predicted_Fandango_Score = predict_Fandango(slope, intercept, x_value_MetacriticScore = 5)\n",
    "print('The predicted Fandango score assuming a Metacritic score of 1 is\\n{fs}'.format(fs=predict_one))\n",
    "print('The predicted Fandango score assuming a Metacritic score of 5 is\\n{fs}'.format(fs=predict_five))"
   ]
  },
  {
   "cell_type": "code",
   "execution_count": 74,
   "metadata": {},
   "outputs": [
    {
     "data": {
      "image/png": "[encoded data removed]",
      "text/plain": [
       "<matplotlib.figure.Figure at 0x7f60513cc5f8>"
      ]
     },
     "metadata": {},
     "output_type": "display_data"
    }
   ],
   "source": [
    "fig, ax = plt.subplots()\n",
    "ax.scatter(movies['Metacritic_norm_round'], movies['Fandango_Stars'], label='Metacritic vs. Fandango')\n",
    "ax.plot([1,5], [predict_one, predict_five], label='Metacritic vs. Predicted Fandango')\n",
    "\n",
    "ax.set_ylabel('Fandango Scores')\n",
    "ax.set_xlabel('Metacritic Scores')\n",
    "ax.set_title('A Comparision Between\\nMetacritic & Fandango Movie Ratings')\n",
    "ax.set_xlim(1,5)\n",
    "plt.legend(loc='best')\n",
    "plt.show()"
   ]
  }
 ],
 "metadata": {
  "kernelspec": {
   "display_name": "Python 3",
   "language": "python",
   "name": "python3"
  },
  "language_info": {
   "codemirror_mode": {
    "name": "ipython",
    "version": 3
   },
   "file_extension": ".py",
   "mimetype": "text/x-python",
   "name": "python",
   "nbconvert_exporter": "python",
   "pygments_lexer": "ipython3",
   "version": "3.6.2"
  }
 },
 "nbformat": 4,
 "nbformat_minor": 2
}

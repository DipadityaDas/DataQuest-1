{
 "cells": [
  {
   "cell_type": "markdown",
   "metadata": {},
   "source": [
    "## <font color=blue>01 Movie Reviews</font>\n",
    "*  Read __fandango_score_comparison.csv__ into a Dataframe named __movies__.\n",
    "*  Display the __movies__ DataFrame by just typing the variable name and running the code cell.\n",
    "*  If you're unfamiliar with RottenTomatoes, Metacritic, IMDB, or Fandango, visit the websites to get a better handle on their review methodology."
   ]
  },
  {
   "cell_type": "code",
   "execution_count": 5,
   "metadata": {},
   "outputs": [
    {
     "name": "stdout",
     "output_type": "stream",
     "text": [
      "fandango_score_comparison columns\n",
      "\t- FILM\n",
      "\t- RottenTomatoes\n",
      "\t- RottenTomatoes_User\n",
      "\t- Metacritic\n",
      "\t- Metacritic_User\n",
      "\t- IMDB\n",
      "\t- Fandango_Stars\n",
      "\t- Fandango_Ratingvalue\n",
      "\t- RT_norm\n",
      "\t- RT_user_norm\n",
      "\t- Metacritic_norm\n",
      "\t- Metacritic_user_nom\n",
      "\t- IMDB_norm\n",
      "\t- RT_norm_round\n",
      "\t- RT_user_norm_round\n",
      "\t- Metacritic_norm_round\n",
      "\t- Metacritic_user_norm_round\n",
      "\t- IMDB_norm_round\n",
      "\t- Metacritic_user_vote_count\n",
      "\t- IMDB_user_vote_count\n",
      "\t- Fandango_votes\n",
      "\t- Fandango_Difference\n"
     ]
    }
   ],
   "source": [
    "import pandas as pd\n",
    "movies = pd.read_csv('fandango_score_comparison.csv')\n",
    "print('fandango_score_comparison columns')\n",
    "for c in movies.columns:\n",
    "    print('\\t-', c)"
   ]
  },
  {
   "cell_type": "markdown",
   "metadata": {},
   "source": [
    "## <font color=blue>02 Histograms</font>\n",
    "*  Enable plotting in Jupyter notebook with __import matplotlib.pyplot as plt__ and run the following magic __%matplotlib inline__.\n",
    "*  Create a histogram of the __Metacritic_norm_round__ column.\n",
    "*  Create a histogram of the __Fandango_Stars__ column.\n",
    "*  Look critically at both histograms, and write up any differences you see in a markdown cell."
   ]
  },
  {
   "cell_type": "code",
   "execution_count": 11,
   "metadata": {},
   "outputs": [
    {
     "data": {
      "text/plain": [
       "<matplotlib.text.Text at 0x7f18e1369da0>"
      ]
     },
     "execution_count": 11,
     "metadata": {},
     "output_type": "execute_result"
    },
    {
     "data": {
      "image/png": "[encoded data removed]",
      "text/plain": [
       "<matplotlib.figure.Figure at 0x7f18e15fbd30>"
      ]
     },
     "metadata": {},
     "output_type": "display_data"
    }
   ],
   "source": [
    "%matplotlib inline\n",
    "import matplotlib.pyplot as plt\n",
    "\n",
    "fig = plt.figure(figsize=(10,5))\n",
    "ax1 = fig.add_subplot(1,2,1)\n",
    "ax2 = fig.add_subplot(1,2,2)\n",
    "\n",
    "ax1.hist(movies['Metacritic_norm_round'])\n",
    "ax2.hist(movies['Fandango_Stars'])\n",
    "\n",
    "ax1.set_title('Metacritic_norm_round')\n",
    "ax2.set_title('Fandango_Stars')"
   ]
  },
  {
   "cell_type": "markdown",
   "metadata": {},
   "source": [
    "#### Data Description\n",
    "*  The Metacritic_norm_round data set appears to have a normal-ish looking distributation"
   ]
  }
 ],
 "metadata": {
  "kernelspec": {
   "display_name": "Python 3",
   "language": "python",
   "name": "python3"
  },
  "language_info": {
   "codemirror_mode": {
    "name": "ipython",
    "version": 3
   },
   "file_extension": ".py",
   "mimetype": "text/x-python",
   "name": "python",
   "nbconvert_exporter": "python",
   "pygments_lexer": "ipython3",
   "version": "3.6.2"
  }
 },
 "nbformat": 4,
 "nbformat_minor": 2
}
